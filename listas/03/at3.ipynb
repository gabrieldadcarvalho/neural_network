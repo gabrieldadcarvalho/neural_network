{
 "cells": [
  {
   "cell_type": "markdown",
   "metadata": {},
   "source": [
    "---\n",
    "<h1 style=\"text-align: center;\">Lista 3 - Exercícios Redes Neurais:</h1>\n",
    "<h2 style=\"text-align: center;\">Prof. Dr. Jodavid Ferreira</h2>\n",
    "\n",
    "*Discente:*\n",
    "\n",
    "    *   Gabriel D'assumpção de Carvalho\n",
    "\n",
    "*Data:* 29/07/2024\n",
    "\n",
    "---\n",
    "---"
   ]
  },
  {
   "cell_type": "markdown",
   "metadata": {},
   "source": [
    "1. **O que são Redes Neurais Artificiais?**\n",
    "   Redes neurais é um modelo de aprendizado de maquina que percente ao grupo de aprendizado profundo onde a inteção é imitar o aprendizado de um cérebro humano, tendo as sinpase onde elas vão conter os paramêtros de peso e vão ser ligada aos neurôneus que contem uma função de ativação que sera aplicada a soma dos valores anteriores multiplicado pelos pesos e acrescentado um vies.\n",
    "\n",
    "2. **Esboce a estrutura de uma rede neural artificial, adicionando informações sobre cada parte da rede.**\n",
    "   ![alt text](nn.png)\n",
    " \n",
    "   onde:\n",
    "      - **\\( x1 \\)** Feature.\n",
    "      - **\\( w1 \\)** Peso.\n",
    "      - **\\( b \\)** Bias.\n",
    "      - **\\( f(x1*w1 + b) \\)** Função de Ativação .\n",
    "      - **\\( ŷ \\)** Target Estimado.\n",
    "  \n",
    "3. **Qual o objetivo da função de ativação? Cite três funções de ativação utilizadas em Redes Neurais.**\n",
    "   O objetivo da função de ativação é introduzir não-linearidade ao modelo, permitindo que a rede neural capture padrões complexos e relações não lineares nos dados. Três funções de ativação são:\n",
    "   * **Sigmoide**: Normaliza a saída para um intervalo entre 0 e 1, geralmente utilizada em problemas de classificação binária.\n",
    "   * **Tangente Hiperbólica**: A função *tanh* normaliza a saída para um intervalo entre -1 e 1, sendo utilizada em casos onde a saída pode ser negativa.\n",
    "   * **Relu**: É amplamente utilizada para o treinamento de redes neurais, onde a função é definida como *max(0, x)*.\n",
    "\n",
    "4. **O que é perceptron de múltiplas camadas ou multilayer perceptron (MLP)?**\n",
    "   O MLP (Multilayer Perceptron) é uma das primeiras redes neurais desenvolvidas que superou a limitação das redes neurais de camada única, que não conseguiam resolver problemas de classificação não-linear. Com o layout do MLP, as redes neurais se tornaram mais robustas e capazes de aprender padrões complexos. Um MLP é composto por uma camada de entrada, uma ou mais camadas ocultas com múltiplos neurônios, e uma camada de saída. Cada neurônio em uma camada está conectado a cada neurônio na próxima camada, e cada conexão tem um peso que é ajustado durante o treinamento para minimizar o erro da rede.\n",
    "\n",
    "5. **O que é o backpropagation?**\n",
    "   Backpropagation é um algoritmo computacional utilizado para treinar redes neurais ajustando os pesos e vieses para minimizar o erro. Esse ajuste é realizado após cada iteração, calculando o erro da saída da rede e propagando esse erro de trás para frente através da rede. O algoritmo utiliza o gradiente do erro em relação aos pesos para atualizar os pesos e vieses de maneira eficiente, reduzindo assim o erro da rede neural de forma iterativa. O objetivo é ajustar os parâmetros da rede para melhorar sua capacidade de generalização e precisão.\n",
    "\n",
    "6. **O que é taxa de aprendizado e como ela afeta o treinamento de uma rede neural?**\n",
    "   A taxa de aprendizado é um hiperparâmetro que define a magnitude das atualizações aplicadas aos pesos e vieses da rede neural a cada iteração do algoritmo de backpropagation. Geralmente, a taxa de aprendizado é um valor menor que 1. Se a taxa de aprendizado for muito alta, as atualizações podem ser grandes demais, fazendo com que a rede oscile e nunca converja para o mínimo global do erro. Por outro lado, se a taxa de aprendizado for muito baixa, o treinamento pode se tornar muito lento e a rede pode ficar presa em mínimos locais. Portanto, escolher uma taxa de aprendizado adequada é crucial para garantir que a rede neural aprenda de maneira eficiente e eficaz."
   ]
  }
 ],
 "metadata": {
  "language_info": {
   "name": "python"
  }
 },
 "nbformat": 4,
 "nbformat_minor": 2
}
