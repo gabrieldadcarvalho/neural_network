{
 "cells": [
  {
   "cell_type": "markdown",
   "metadata": {},
   "source": [
    "---\n",
    "<h1 style=\"text-align: center;\">Lista 8 - Exercícios Redes Neurais:</h1>\n",
    "<h2 style=\"text-align: center;\">\n",
    "    <a href=\"https://github.com/Jodavid\" target=\"_blank\" style=\"color: blue; text-decoration: underline;\">\n",
    "        Prof. Dr. Jodavid Ferreira\n",
    "    </a>\n",
    "</h2>\n",
    "\n",
    "*Discente:*\n",
    "\n",
    "    *   Gabriel D'assumpção de Carvalho\n",
    "\n",
    "*Data:* 10/09/2024\n",
    "\n",
    "---\n",
    "---"
   ]
  },
  {
   "cell_type": "markdown",
   "metadata": {},
   "source": [
    "1. **Uma rede neural convolucional (CNN) é composta minimamente de quantos componentes, ou seja, quais são os componentes mínimos para formar uma arquitetura de CNN? Quais são esses componentes? (Considere as camadas de entrada e saída como componentes).**\n",
    "\n",
    "Uma rede neural convolucional (CNN) é composta minimamente de 4 componentes, essenciais para formar uma arquitetura básica, são eles:\n",
    "  1) Camada de entrada: Recebe os dados de entrada, em formato de matriz (por exemplo uma imagem RGP, onde vai possuir dimensões como altura, largura, e três canais de cor).\n",
    "   \n",
    "  2) Camada de convolução: Aplica os filtros (kernels) que \"varrem\" a imagem para extrair características como bordas, texturar, linhas horizontais ou verticais. Essa camada é responsável por detectar de padrões especiais.\n",
    "  \n",
    "  3) Camada de pooling **(OPCIONAL)**: Essa camada reduz a dimensionalidade das caracteristicas extraídas na camada de convolução, tornando o modelo mais eficiência e ajudando a tornar o modelo mais robusto a pequenas variações nas imagens\n",
    "\n",
    "  4) Camada totalmente conectada: Após as extrações de características, a camada totalmente conectada processa todas as informações para realizar a classificação ou tarefa desejada, conectando todos os filtros utilizado na camada anterior.\n",
    "   \n",
    "  5) Camada de saída: A última camada da rede, responsável pela saída final do modelo, como a classe prevista no caso da tarefa de classificação. Geralmente utiliza uma função de ativação como softmax para prever a probabilidade entre as classes."
   ]
  },
  {
   "cell_type": "markdown",
   "metadata": {},
   "source": [
    "2. **Qual a função das Camadas Convolucionais?**\n",
    "\n",
    "Como mencionado anteriormente, a camada de convolução tem como objetivo extrair características como borda, textura, linhas horizontais e verticais. No entando, essa camada é responsável por detectar padrões especiais."
   ]
  },
  {
   "cell_type": "markdown",
   "metadata": {},
   "source": [
    "3. **Qual o conceito de Stride e Padding?**\n",
    "\n",
    "O stride e padding são parâmetros adicionados as camadas de convolução. O stride é o número de píxel que o filtro (kernel) vai se mover a cada passo, um stride de 1 significa que o filtro vai se mover um píxel por vez. O padding é a adição de píxel em volta da imagem de entrada, para que a imagem depois da convolução tenha dimensões iguais, podendo ser \"valid\" (sem padding) ou \"same\" (com padding)."
   ]
  },
  {
   "cell_type": "markdown",
   "metadata": {},
   "source": [
    "4. **Considere uma a matriz Imagem que possui dimensões 5x5 e um filtro com dimensões 3x3, a seguir.**\n",
    "   \n",
    "A matriz Imagem é dada por:\n",
    "\n",
    "$\n",
    "\\text{Imagem} = \\begin{pmatrix}\n",
    "1 & 2 & 3 & 0 & 1 \\\\\n",
    "4 & 5 & 6 & 1 & 2 \\\\\n",
    "7 & 8 & 9 & 2 & 3 \\\\\n",
    "0 & 1 & 2 & 3 & 0 \\\\\n",
    "3 & 2 & 1 & 0 & 4\n",
    "\\end{pmatrix}\n",
    "$\n",
    "\n",
    "E o Filtro é dado por:\n",
    "\n",
    "$\n",
    "\\text{Filtro} = \\begin{pmatrix}\n",
    "1 & 0 & 1 \\\\\n",
    "0 & 1 & 0 \\\\\n",
    "1 & 0 & 1\n",
    "\\end{pmatrix}\n",
    "$\n",
    "\n",
    "Calcule a convolução dessa matriz de imagem com o filtro utilizando uma operação de convolução com **STRIDE=1** e **sem padding** e apresente o resultado final.\n"
   ]
  },
  {
   "cell_type": "code",
   "execution_count": 14,
   "metadata": {},
   "outputs": [
    {
     "name": "stdout",
     "output_type": "stream",
     "text": [
      "[[25 18 17]\n",
      " [20 19 12]\n",
      " [21 14 20]]\n"
     ]
    }
   ],
   "source": [
    "import numpy as np\n",
    "\n",
    "img = np.array(\n",
    "    [\n",
    "        [1, 2, 3, 0, 1],\n",
    "        [4, 5, 6, 1, 2],\n",
    "        [7, 8, 9, 2, 3],\n",
    "        [0, 1, 2, 3, 0],\n",
    "        [3, 2, 1, 0, 4],\n",
    "    ]\n",
    ")\n",
    "\n",
    "kernel = np.array([[1, 0, 1], [0, 1, 0], [1, 0, 1]])\n",
    "\n",
    "conv_img = np.array(\n",
    "    [\n",
    "        [\n",
    "            1 * 1 + 2 * 0 + 3 * 1 + 4 * 0 + 5 * 1 + 6 * 0 + 7 * 1 + 8 * 0 + 9 * 1,\n",
    "            2 * 1 + 3 * 0 + 0 * 1 + 5 * 0 + 6 * 1 + 1 * 0 + 8 * 1 + 9 * 0 + 2 * 1,\n",
    "            3 * 1 + 0 * 0 + 1 * 1 + 6 * 0 + 1 * 1 + 2 * 0 + 9 * 1 + 2 * 0 + 3 * 1\n",
    "        ],\n",
    "        [\n",
    "            4 * 1 + 5 * 0 + 6 * 1 + 7 * 0 + 8 * 1 + 9 * 0 + 0 * 1 + 1 * 0 + 2 * 1,\n",
    "            5 * 1 + 6 * 0 + 1 * 1 + 8 * 0 + 9 * 1 + 2 * 0 + 1 * 1 + 2 * 0 + 3 * 1,\n",
    "            6 * 1 + 1 * 0 + 2 * 1 + 9 * 0 + 2 * 1 + 3 * 0 + 2 * 1 + 3 * 0 + 0 * 1\n",
    "        ],\n",
    "        [\n",
    "            7 * 1 + 8 * 0 + 9 * 1 + 0 * 0 + 1 * 1 + 2 * 0 + 3 * 1 + 2 * 0 + 1 * 1,\n",
    "            8 * 1 + 9 * 0 + 2 * 1 + 1 * 0 + 2 * 1 + 3 * 0 + 2 * 1 + 1 * 0 + 0 * 1,\n",
    "            9 * 1 + 2 * 0 + 3 * 1 + 2 * 0 + 3 * 1 + 1 * 0 + 1 * 1 + 0 * 0 + 4 * 1\n",
    "        ]\n",
    "    ]\n",
    ")\n",
    "\n",
    "print(conv_img)"
   ]
  },
  {
   "cell_type": "code",
   "execution_count": 13,
   "metadata": {},
   "outputs": [
    {
     "name": "stdout",
     "output_type": "stream",
     "text": [
      "[[25 18 17]\n",
      " [20 19 12]\n",
      " [21 14 20]]\n"
     ]
    }
   ],
   "source": [
    "from scipy.signal import convolve2d\n",
    "\n",
    "# Convolução usando scipy\n",
    "conv_result = convolve2d(img, kernel, mode='valid')\n",
    "print(conv_result)"
   ]
  },
  {
   "cell_type": "markdown",
   "metadata": {},
   "source": [
    "5. **Considere agora as seguintes configurações para dimensões e processo de convolução da imagem e do filtro:**\n",
    "\n",
    "**Imagem: 15x15 (altura x largura)**\n",
    "\n",
    "**Filtro: 5x5 (altura x largura)**\n",
    "\n",
    "**Stride: 1**\n",
    "\n",
    "**Padding: same (Half padding)**\n",
    "\n",
    "**Qual será a dimensão da saída após a convolução da imagem com o filtro?**\n",
    "\n",
    "Como o stride é igual a 1 e a convolução está com o padding ligado a dimensão da saída após o filtro vai ser de 15x15, igual a imagem de entrada."
   ]
  },
  {
   "cell_type": "markdown",
   "metadata": {},
   "source": [
    "6. **Considere agora as seguintes configurações para dimensões e processo de convolução da imagem e do filtro:**\n",
    "\n",
    "**Imagem: 15x15 (altura x largura)**\n",
    "\n",
    "**Filtro: 5x5 (altura x largura)**\n",
    "\n",
    "**Stride: 1 (unitário)**\n",
    "\n",
    "**Padding: Zero padding**\n",
    "\n",
    "**Qual será a dimensão da saída após a convolução da imagem com o filtro?**\n",
    "\n",
    "Como a a camada de convolução tem stride igual a 1 e não é aplicado padding, após o deslizamento da kernel sobre a imagem a saída dessa camada vai ser igual a dimensão da imagem menos a do filtro mais o número de stride, que nesse caso vai ter como saída uma imagem 11x11."
   ]
  },
  {
   "cell_type": "markdown",
   "metadata": {},
   "source": [
    "1. **Considere uma matriz de imagem 8x8, conforme mostrado abaixo:**"
   ]
  },
  {
   "cell_type": "code",
   "execution_count": 15,
   "metadata": {},
   "outputs": [
    {
     "name": "stdout",
     "output_type": "stream",
     "text": [
      "[[6 4 8 9]\n",
      " [9 8 9 5]\n",
      " [5 7 8 9]\n",
      " [9 5 7 9]]\n"
     ]
    }
   ],
   "source": [
    "img = np.array(\n",
    "    [\n",
    "        [1, 3, 2, 4, 6, 8, 7, 5],\n",
    "        [5, 6, 4, 3, 1, 2, 9, 8],\n",
    "        [7, 8, 5, 6, 9, 4, 3, 2],\n",
    "        [9, 7, 1, 8, 2, 3, 5, 4],\n",
    "        [4, 2, 6, 1, 8, 7, 9, 6],\n",
    "        [3, 5, 7, 2, 4, 1, 6, 8],\n",
    "        [8, 9, 4, 5, 3, 2, 7, 1],\n",
    "        [6, 4, 2, 3, 7, 5, 8, 9],\n",
    "    ]\n",
    ")\n",
    "\n",
    "max_pooling = np.array(\n",
    "    [\n",
    "        [6, 4, 8, 9],\n",
    "        [9, 8, 9, 5],\n",
    "        [5, 7, 8, 9],\n",
    "        [9, 5, 7, 9],\n",
    "    ]\n",
    ")\n",
    "\n",
    "print(max_pooling)"
   ]
  }
 ],
 "metadata": {
  "kernelspec": {
   "display_name": "am",
   "language": "python",
   "name": "python3"
  },
  "language_info": {
   "codemirror_mode": {
    "name": "ipython",
    "version": 3
   },
   "file_extension": ".py",
   "mimetype": "text/x-python",
   "name": "python",
   "nbconvert_exporter": "python",
   "pygments_lexer": "ipython3",
   "version": "3.10.13"
  }
 },
 "nbformat": 4,
 "nbformat_minor": 2
}
