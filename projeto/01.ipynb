{
 "cells": [
  {
   "cell_type": "markdown",
   "metadata": {},
   "source": [
    "---\n",
    "<h1 style=\"text-align: center;\">Análise Estatística dos Retornos Diários do Índice Ibovespa:</h1>\n",
    "<h2 style=\"text-align: center;\">Comparação entre Distribuições Normal e t de Student</h2>\n",
    "\n",
    "*Discente:*\n",
    "\n",
    "    *   Gabriel D'assumpção de Carvalho\n",
    "\n",
    "*Data:* 19/08/2024\n",
    "\n",
    "---\n",
    "---"
   ]
  },
  {
   "cell_type": "markdown",
   "metadata": {},
   "source": [
    "# Introdução"
   ]
  },
  {
   "cell_type": "markdown",
   "metadata": {},
   "source": [
    "| Variável    | Descrição                                                                                                                                          | Papel           | Tipo       |\n",
    "|-------------|----------------------------------------------------------------------------------------------------------------------------------------------------|-----------------|------------|\n",
    "| **Idade**   | Idade do paciente                                                                                                                                  | Característica  | Inteiro    |\n",
    "| **Sexo**    | Sexo do paciente                                                                                                                                   | Característica  | Binário    |\n",
    "| **exang**   | Angina induzida por exercício (1 = sim; 0 = não)                                                                                                   | Característica  | Binário    |\n",
    "| **ca**      | Número de embarcações principais (0-3)                                                                                                             | Característica  | Inteiro    |\n",
    "| **cp**      | Tipo de dor no peito                                                                                                                               | Característica  | Categórico |\n",
    "|             | - Valor 1: angina típica                                                                                                                           |                 |            |\n",
    "|             | - Valor 2: angina atípica                                                                                                                          |                 |            |\n",
    "|             | - Valor 3: dor não anginosa                                                                                                                        |                 |            |\n",
    "|             | - Valor 4: assintomático                                                                                                                           |                 |            |\n",
    "| **trtbps**  | Pressão arterial em repouso (em mm Hg)                                                                                                             | Característica  | Inteiro    |\n",
    "| **chol**    | Colesterol em mg/dl obtido via sensor de IMC                                                                                                       | Característica  | Inteiro    |\n",
    "| **fbs**     | Glicemia em jejum > 120 mg/dl (1 = verdadeiro; 0 = falso)                                                                                          | Característica  | Binário    |\n",
    "| **rest_ecg**| Resultados eletrocardiográficos em repouso                                                                                                         | Característica  | Categórico |\n",
    "|             | - Valor 0: normal                                                                                                                                  |                 |            |\n",
    "|             | - Valor 1: com anormalidade da onda ST-T (inversões da onda T e/ou elevação ou depressão do segmento ST de > 0,05 mV)                              |                 |            |\n",
    "|             | - Valor 2: mostrando hipertrofia ventricular esquerda provável ou definitiva pelos critérios de Estes                                              |                 |            |\n",
    "| **thalach** | Frequência cardíaca máxima alcançada                                                                                                               | Característica  | Inteiro    |\n",
    "| **alvo**    | 0 = menos chance de ataque cardíaco, 1 = mais chance de ataque cardíaco                                                                             | Alvo            | Binário    |\n"
   ]
  },
  {
   "cell_type": "markdown",
   "metadata": {},
   "source": [
    "## Bibliotecas Utilizadas"
   ]
  },
  {
   "cell_type": "code",
   "execution_count": 2,
   "metadata": {},
   "outputs": [
    {
     "name": "stderr",
     "output_type": "stream",
     "text": [
      "2024-08-21 15:36:12.555817: I tensorflow/core/platform/cpu_feature_guard.cc:193] This TensorFlow binary is optimized with oneAPI Deep Neural Network Library (oneDNN) to use the following CPU instructions in performance-critical operations:  SSE4.1 SSE4.2 AVX AVX2 FMA\n",
      "To enable them in other operations, rebuild TensorFlow with the appropriate compiler flags.\n"
     ]
    }
   ],
   "source": [
    "# Configurando o modo de exibição do pandas\n",
    "import pandas as pd\n",
    "pd.options.display.float_format = \"{:.4f}\".format\n",
    "\n",
    "import numpy as np\n",
    "import tensorflow as tf\n",
    "from tensorflow import keras\n",
    "from sklearn.model_selection import train_test_split\n",
    "from sklearn.preprocessing import StandardScaler\n",
    "\n",
    "# Desativa todos os avisos\n",
    "import warnings\n",
    "warnings.filterwarnings(\"ignore\")"
   ]
  },
  {
   "cell_type": "markdown",
   "metadata": {},
   "source": [
    "# Coleta dos Dados"
   ]
  },
  {
   "cell_type": "code",
   "execution_count": 11,
   "metadata": {},
   "outputs": [],
   "source": [
    "df = pd.read_csv(\"https://raw.githubusercontent.com/gabrieldadcarvalho/neural_network/main/projeto/heart.csv\")\n",
    "\n",
    "X = df.iloc[:, :-1]\n",
    "y = df.iloc[:, -1]"
   ]
  },
  {
   "cell_type": "markdown",
   "metadata": {},
   "source": [
    "# Exploração dos Dados"
   ]
  },
  {
   "cell_type": "markdown",
   "metadata": {},
   "source": [
    "A exploração dos dados visa identificar padrões, tendências e anomalias que podem impactar a análise. Outliers são identificados e avaliados quanto à sua significância, enquanto correlações entre variáveis são analisadas para identificar relações importantes. A análise de variáveis categóricas inclui a avaliação das frequências e modas, e visualizações adicionais, como heatmaps e pair plots, são utilizadas para suportar a análise e identificar padrões mais complexos."
   ]
  },
  {
   "cell_type": "code",
   "execution_count": 12,
   "metadata": {},
   "outputs": [
    {
     "name": "stdout",
     "output_type": "stream",
     "text": [
      "   age  sex  cp  trtbps  chol  fbs  restecg  thalachh  exng  oldpeak  slp  \\\n",
      "0   63    1   3     145   233    1        0       150     0   2.3000    0   \n",
      "1   37    1   2     130   250    0        1       187     0   3.5000    0   \n",
      "2   41    0   1     130   204    0        0       172     0   1.4000    2   \n",
      "3   56    1   1     120   236    0        1       178     0   0.8000    2   \n",
      "4   57    0   0     120   354    0        1       163     1   0.6000    2   \n",
      "\n",
      "   caa  thall  \n",
      "0    0      1  \n",
      "1    0      2  \n",
      "2    0      2  \n",
      "3    0      2  \n",
      "4    0      2  \n"
     ]
    }
   ],
   "source": [
    "# Verificando as 5 primeiras linhas de x\n",
    "print(X.head())"
   ]
  },
  {
   "cell_type": "code",
   "execution_count": 13,
   "metadata": {},
   "outputs": [
    {
     "name": "stdout",
     "output_type": "stream",
     "text": [
      "0    1\n",
      "1    1\n",
      "2    1\n",
      "3    1\n",
      "4    1\n",
      "Name: output, dtype: int64\n"
     ]
    }
   ],
   "source": [
    "# Verificando as 5 primeiras linhas de x\n",
    "print(y.head())"
   ]
  },
  {
   "cell_type": "markdown",
   "metadata": {},
   "source": [
    "## Variáveis Explicativas\n",
    "Vamos realizar uma análise exploratória das variáveis explicativas do conjunto de dados. Abaixo estão as estatísticas descritivas e visualizações para cada variável."
   ]
  },
  {
   "cell_type": "markdown",
   "metadata": {},
   "source": [
    "### Idade"
   ]
  },
  {
   "cell_type": "code",
   "execution_count": 15,
   "metadata": {},
   "outputs": [
    {
     "data": {
      "text/plain": [
       "count   303.0000\n",
       "mean     54.3663\n",
       "std       9.0821\n",
       "min      29.0000\n",
       "25%      47.5000\n",
       "50%      55.0000\n",
       "75%      61.0000\n",
       "max      77.0000\n",
       "Name: age, dtype: float64"
      ]
     },
     "execution_count": 15,
     "metadata": {},
     "output_type": "execute_result"
    }
   ],
   "source": [
    "X['age'].describe()"
   ]
  },
  {
   "cell_type": "code",
   "execution_count": 16,
   "metadata": {},
   "outputs": [
    {
     "data": {
      "text/plain": [
       "0    58\n",
       "Name: age, dtype: int64"
      ]
     },
     "execution_count": 16,
     "metadata": {},
     "output_type": "execute_result"
    }
   ],
   "source": [
    "X['age'].mode()"
   ]
  },
  {
   "cell_type": "markdown",
   "metadata": {},
   "source": [
    "Ao visualizar as estatisticas da variável idade, podemos perceber que"
   ]
  }
 ],
 "metadata": {
  "kernelspec": {
   "display_name": "am",
   "language": "python",
   "name": "python3"
  },
  "language_info": {
   "codemirror_mode": {
    "name": "ipython",
    "version": 3
   },
   "file_extension": ".py",
   "mimetype": "text/x-python",
   "name": "python",
   "nbconvert_exporter": "python",
   "pygments_lexer": "ipython3",
   "version": "3.9.18"
  }
 },
 "nbformat": 4,
 "nbformat_minor": 2
}
