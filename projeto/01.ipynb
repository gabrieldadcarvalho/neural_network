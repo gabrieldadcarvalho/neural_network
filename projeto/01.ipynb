{
 "cells": [
  {
   "cell_type": "markdown",
   "metadata": {},
   "source": [
    "---\n",
    "<h1 style=\"text-align: center;\">Modelagem de Redes Neurais para Previsão de Custos em Seguros de Saúde</h1>\n",
    "\n",
    "*Discente:*\n",
    "\n",
    "    *   Gabriel D'assumpção de Carvalho\n",
    "\n",
    "*Data:* 19/08/2024\n",
    "\n",
    "---\n",
    "---"
   ]
  },
  {
   "cell_type": "markdown",
   "metadata": {},
   "source": [
    "# Introdução"
   ]
  },
  {
   "cell_type": "markdown",
   "metadata": {},
   "source": [
    "As doenças cardiovasculares permanecem como a principal causa de mortalidade no Brasil, de acordo com o estudo Global Burden of Disease (GBD) de 2019 e os dados do Sistema Único de Saúde (SUS). O aumento preocupante na incidência de ataques cardíacos entre jovens e adultos é amplamente atribuído à falta de atividade física e a uma dieta inadequada. Esse panorama sublinha a necessidade urgente de promover hábitos de vida mais saudáveis, seguindo a recomendação de Michael Pollan: \"descasque mais, desembale menos\", que incentiva o consumo de alimentos frescos e não processados.\n",
    "\n",
    "A deterioração da saúde pública tem levado a um crescimento significativo no setor de planos de saúde. De acordo com a Agência Nacional de Saúde Suplementar (ANS), o Brasil registrou um aumento de aproximadamente 20,5 milhões de novos beneficiários de planos de assistência médica entre março de 2000 e junho de 2024.\n",
    "\n",
    "<p align=\"center\">\n",
    "  <span style=\"font-size: smaller;\">Gráfico 01</span>\n",
    "</p>\n",
    "<p align=\"center\">\n",
    "  <img src=\"beneficiario_ans.png\" alt=\"Gráfico mostrando o crescimento dos beneficiários de planos de saúde no Brasil\" width=\"800\"/>\n",
    "</div>\n",
    "</p>\n",
    "<p align=\"center\">\n",
    "  <span style=\"font-size: smaller;\">Fonte: Agência Nacional de Seguro (ANS)\n",
    "  </span>\n",
    "</p>\n",
    "\n",
    "O gráfico acima ilustra o aumento no número de beneficiários ao longo de 24 anos, refletindo a crescente demanda por cuidados médicos. Esse crescimento torna essencial a análise e previsão das despesas associadas aos seguros de saúde, que é o objetivo principal deste projeto.\n",
    "\n",
    "Para a realização desta análise, será utilizada uma base de dados disponível no [Kaggle](https://www.kaggle.com/datasets/willianoliveiragibin/healthcare-insurance/data). Esta base contém 303 observações e 6 características, com o custo do seguro médico sendo a variável alvo. A seguir, apresentamos as variáveis da base de dados:\n",
    "\n",
    "| Atributo   | Descrição                                                      | Tipo                    |\n",
    "|------------|----------------------------------------------------------------|-------------------------|\n",
    "| Idade      | A idade da pessoa segurada.                                    | Inteiro                 |\n",
    "| Sexo       | Gênero (masculino ou feminino) do segurado.                     | Categórico - Binário    |\n",
    "| IMC        | Índice de Massa Corporal: uma medida de gordura corporal baseada na altura e no peso. | Contínuo                |\n",
    "| Crianças   | O número de dependentes cobertos.                               | Inteiro                 |\n",
    "| Fumante    | Se o segurado é fumante (sim ou não).                           | Categórico - Binário    |\n",
    "| Região     | A área geográfica de cobertura.                                | Categórico - Nominal    |\n",
    "| Encargos   | Os custos do seguro médico incorridos pelo segurado.            | Contínuo                |\n"
   ]
  },
  {
   "cell_type": "markdown",
   "metadata": {},
   "source": [
    "# Fundamentos Teóricos e Metodológicos"
   ]
  },
  {
   "cell_type": "markdown",
   "metadata": {},
   "source": [
    "O objetivo deste trabalho é prever os custos do seguro médico com base nas características dos clientes, configurando-se como um problema de regressão. A abordagem tradicional de regressão linear pode ser representada pela seguinte equação:\n",
    "\n",
    "<p style=\"text-align: right;\">\n",
    "(1)\n",
    "</p>\n",
    "\n",
    "$$\n",
    "\\hat{y} = \\beta_{0} + \\beta_{1} \\cdot x_{1} + \\epsilon \\hspace{3em} \\text{(1)}\n",
    "$$\n",
    "\n",
    "Entretanto, as suposições subjacentes à regressão linear, como a normalidade das variáveis, a independência entre as características dos clientes e a normalidade dos resíduos, podem não ser atendidas neste contexto. Por essa razão, este estudo opta por utilizar redes neurais, especificamente o Perceptron Multicamadas (MLP), para realizar a previsão dos custos do seguro.\n",
    "\n",
    "Modelos com múltiplas camadas, como o MLP, são mais adequados para resolver problemas complexos. Redes com $S \\in \\mathbb{N}$ neurônios são compostas por conjuntos de neurônios $O = \\{o_1, o_2, \\ldots, o_s\\}$, vieses  $B = \\{b_1, b_2, \\ldots, b_s\\}$, e pesos $W = \\{w_{1,1}, w_{1,2}, \\ldots, w_{1,k}, w_{2,1}, w_{2,2}, \\ldots, w_{2,k}, \\ldots, w_{j,k}\\}$.\n",
    "\n",
    "\n",
    "Copy code\n",
    "<p align=\"center\">\n",
    "  <span style=\"font-size: smaller;\">Gráfico 02</span>\n",
    "</p>\n",
    "<div style=\"text-align: center;\">\n",
    "    <img src=\"multicamadas_perceptron.png\" alt=\"Arquitetura do Perceptron Multicamadas\" width=\"400\"/>\n",
    "</div>  \n",
    "<p align=\"center\">\n",
    "  <span style=\"font-size: smaller;\">Fonte: <a href=\"https://www.researchgate.net/figure/Schematic-structure-of-a-perceptron-neural-network_fig2_260291992\">https://www.researchgate.net/figure/Schematic-structure-of-a-perceptron-neural-network_fig2_260291992</a></span>\n",
    "</p>\n",
    "\n",
    "A entrada dos neurônios a partir da segunda camada oculta depende da saída dos neurônios da camada anterior. A função de ativação é dada por:\n",
    "\n",
    "\n",
    "$$\n",
    "\\phi_i(net_j) = \\phi_i\\left(\\sum_{k=1}^{n} w_{k,j} \\cdot o_k + b_j\\right)\n",
    "$$\n",
    "\n",
    "onde\n",
    "\n",
    "$$\n",
    "net_j = \\sum_{k=1}^{n} w_{k,j} \\cdot o_k + b_j\n",
    "$$\n",
    "\n"
   ]
  },
  {
   "cell_type": "markdown",
   "metadata": {},
   "source": [
    "\n",
    "\n",
    "Este crescimento reflete a crescente demanda por cuidados médicos, tornando crucial a análise e previsão das despesas associadas aos seguros de saúde, que é o foco deste projeto de aprendizado de máquina."
   ]
  },
  {
   "cell_type": "markdown",
   "metadata": {},
   "source": [
    "## Bibliotecas Utilizadas"
   ]
  },
  {
   "cell_type": "code",
   "execution_count": 1,
   "metadata": {},
   "outputs": [
    {
     "name": "stderr",
     "output_type": "stream",
     "text": [
      "2024-09-18 10:12:02.533162: E external/local_xla/xla/stream_executor/cuda/cuda_fft.cc:485] Unable to register cuFFT factory: Attempting to register factory for plugin cuFFT when one has already been registered\n",
      "2024-09-18 10:12:02.582289: E external/local_xla/xla/stream_executor/cuda/cuda_dnn.cc:8454] Unable to register cuDNN factory: Attempting to register factory for plugin cuDNN when one has already been registered\n",
      "2024-09-18 10:12:02.597355: E external/local_xla/xla/stream_executor/cuda/cuda_blas.cc:1452] Unable to register cuBLAS factory: Attempting to register factory for plugin cuBLAS when one has already been registered\n",
      "2024-09-18 10:12:02.877537: I tensorflow/core/platform/cpu_feature_guard.cc:210] This TensorFlow binary is optimized to use available CPU instructions in performance-critical operations.\n",
      "To enable the following instructions: SSE4.1 SSE4.2 AVX AVX2 FMA, in other operations, rebuild TensorFlow with the appropriate compiler flags.\n"
     ]
    }
   ],
   "source": [
    "# Configurando o modo de exibição do pandas\n",
    "import pandas as pd\n",
    "pd.options.display.float_format = \"{:.4f}\".format\n",
    "\n",
    "import numpy as np\n",
    "from matplotlib import pyplot as plt\n",
    "import seaborn as sns\n",
    "import tensorflow as tf\n",
    "from tensorflow import keras\n",
    "from sklearn.model_selection import train_test_split\n",
    "from sklearn.preprocessing import StandardScaler\n",
    "\n",
    "# Desativa todos os avisos\n",
    "import warnings\n",
    "warnings.filterwarnings(\"ignore\")"
   ]
  },
  {
   "cell_type": "markdown",
   "metadata": {},
   "source": [
    "# Coleta dos Dados"
   ]
  },
  {
   "cell_type": "code",
   "execution_count": 2,
   "metadata": {},
   "outputs": [],
   "source": [
    "df = pd.read_csv(\"https://raw.githubusercontent.com/gabrieldadcarvalho/neural_network/main/projeto/insurance.csv\")\n",
    "\n",
    "X = df.iloc[:, :-1]\n",
    "y = df.iloc[:, -1]"
   ]
  },
  {
   "cell_type": "markdown",
   "metadata": {},
   "source": [
    "# Exploração dos Dados"
   ]
  },
  {
   "cell_type": "markdown",
   "metadata": {},
   "source": [
    "A exploração dos dados visa identificar padrões, tendências e anomalias que podem impactar a análise. Outliers são identificados e avaliados quanto à sua significância, enquanto correlações entre variáveis são analisadas para identificar relações importantes. A análise de variáveis categóricas inclui a avaliação das frequências e modas, e visualizações adicionais, como heatmaps e pair plots, são utilizadas para suportar a análise e identificar padrões mais complexos."
   ]
  },
  {
   "cell_type": "code",
   "execution_count": 3,
   "metadata": {},
   "outputs": [
    {
     "name": "stdout",
     "output_type": "stream",
     "text": [
      "0   16884.9240\n",
      "1    1725.5523\n",
      "2    4449.4620\n",
      "3   21984.4706\n",
      "4    3866.8552\n",
      "Name: charges, dtype: float64\n"
     ]
    }
   ],
   "source": [
    "# Verificando as 5 primeiras linhas de x\n",
    "print(y.head())"
   ]
  },
  {
   "cell_type": "markdown",
   "metadata": {},
   "source": [
    "## Variáveis Explicativas\n",
    "Vamos realizar uma análise exploratória das variáveis explicativas do conjunto de dados. Abaixo estão as estatísticas descritivas e visualizações para cada variável."
   ]
  },
  {
   "cell_type": "code",
   "execution_count": 4,
   "metadata": {},
   "outputs": [
    {
     "data": {
      "text/html": [
       "<div>\n",
       "<style scoped>\n",
       "    .dataframe tbody tr th:only-of-type {\n",
       "        vertical-align: middle;\n",
       "    }\n",
       "\n",
       "    .dataframe tbody tr th {\n",
       "        vertical-align: top;\n",
       "    }\n",
       "\n",
       "    .dataframe thead th {\n",
       "        text-align: right;\n",
       "    }\n",
       "</style>\n",
       "<table border=\"1\" class=\"dataframe\">\n",
       "  <thead>\n",
       "    <tr style=\"text-align: right;\">\n",
       "      <th></th>\n",
       "      <th>age</th>\n",
       "      <th>imc</th>\n",
       "      <th>children</th>\n",
       "    </tr>\n",
       "  </thead>\n",
       "  <tbody>\n",
       "    <tr>\n",
       "      <th>count</th>\n",
       "      <td>1338.0000</td>\n",
       "      <td>1338.0000</td>\n",
       "      <td>1338.0000</td>\n",
       "    </tr>\n",
       "    <tr>\n",
       "      <th>mean</th>\n",
       "      <td>39.2070</td>\n",
       "      <td>30.6634</td>\n",
       "      <td>1.0949</td>\n",
       "    </tr>\n",
       "    <tr>\n",
       "      <th>std</th>\n",
       "      <td>14.0500</td>\n",
       "      <td>6.0982</td>\n",
       "      <td>1.2055</td>\n",
       "    </tr>\n",
       "    <tr>\n",
       "      <th>min</th>\n",
       "      <td>18.0000</td>\n",
       "      <td>15.9600</td>\n",
       "      <td>0.0000</td>\n",
       "    </tr>\n",
       "    <tr>\n",
       "      <th>25%</th>\n",
       "      <td>27.0000</td>\n",
       "      <td>26.2963</td>\n",
       "      <td>0.0000</td>\n",
       "    </tr>\n",
       "    <tr>\n",
       "      <th>50%</th>\n",
       "      <td>39.0000</td>\n",
       "      <td>30.4000</td>\n",
       "      <td>1.0000</td>\n",
       "    </tr>\n",
       "    <tr>\n",
       "      <th>75%</th>\n",
       "      <td>51.0000</td>\n",
       "      <td>34.6938</td>\n",
       "      <td>2.0000</td>\n",
       "    </tr>\n",
       "    <tr>\n",
       "      <th>max</th>\n",
       "      <td>64.0000</td>\n",
       "      <td>53.1300</td>\n",
       "      <td>5.0000</td>\n",
       "    </tr>\n",
       "  </tbody>\n",
       "</table>\n",
       "</div>"
      ],
      "text/plain": [
       "            age       imc  children\n",
       "count 1338.0000 1338.0000 1338.0000\n",
       "mean    39.2070   30.6634    1.0949\n",
       "std     14.0500    6.0982    1.2055\n",
       "min     18.0000   15.9600    0.0000\n",
       "25%     27.0000   26.2963    0.0000\n",
       "50%     39.0000   30.4000    1.0000\n",
       "75%     51.0000   34.6938    2.0000\n",
       "max     64.0000   53.1300    5.0000"
      ]
     },
     "execution_count": 4,
     "metadata": {},
     "output_type": "execute_result"
    }
   ],
   "source": [
    "X.describe()"
   ]
  },
  {
   "cell_type": "code",
   "execution_count": 5,
   "metadata": {},
   "outputs": [
    {
     "data": {
      "text/plain": [
       "array([364, 325, 325, 324])"
      ]
     },
     "execution_count": 5,
     "metadata": {},
     "output_type": "execute_result"
    }
   ],
   "source": [
    "r = X['region'].value_counts()\n",
    "r.index\n",
    "r.values"
   ]
  },
  {
   "cell_type": "code",
   "execution_count": 6,
   "metadata": {},
   "outputs": [
    {
     "name": "stdout",
     "output_type": "stream",
     "text": [
      "<class 'pandas.core.frame.DataFrame'>\n",
      "RangeIndex: 1338 entries, 0 to 1337\n",
      "Data columns (total 6 columns):\n",
      " #   Column    Non-Null Count  Dtype  \n",
      "---  ------    --------------  -----  \n",
      " 0   age       1338 non-null   int64  \n",
      " 1   sex       1338 non-null   object \n",
      " 2   imc       1338 non-null   float64\n",
      " 3   children  1338 non-null   int64  \n",
      " 4   smoke     1338 non-null   object \n",
      " 5   region    1338 non-null   object \n",
      "dtypes: float64(1), int64(2), object(3)\n",
      "memory usage: 62.8+ KB\n"
     ]
    }
   ],
   "source": [
    "X.info()"
   ]
  },
  {
   "cell_type": "markdown",
   "metadata": {},
   "source": [
    "### Idade"
   ]
  },
  {
   "cell_type": "code",
   "execution_count": 7,
   "metadata": {},
   "outputs": [
    {
     "data": {
      "text/plain": [
       "count   1338.0000\n",
       "mean      39.2070\n",
       "std       14.0500\n",
       "min       18.0000\n",
       "25%       27.0000\n",
       "50%       39.0000\n",
       "75%       51.0000\n",
       "max       64.0000\n",
       "Name: age, dtype: float64"
      ]
     },
     "execution_count": 7,
     "metadata": {},
     "output_type": "execute_result"
    }
   ],
   "source": [
    "X['age'].describe()"
   ]
  },
  {
   "cell_type": "code",
   "execution_count": 8,
   "metadata": {},
   "outputs": [
    {
     "data": {
      "text/plain": [
       "0    female\n",
       "1      male\n",
       "2      male\n",
       "3      male\n",
       "4      male\n",
       "Name: sex, dtype: object"
      ]
     },
     "execution_count": 8,
     "metadata": {},
     "output_type": "execute_result"
    }
   ],
   "source": [
    "X['sex'].head()"
   ]
  },
  {
   "cell_type": "code",
   "execution_count": 9,
   "metadata": {},
   "outputs": [
    {
     "data": {
      "text/plain": [
       "0    18\n",
       "Name: age, dtype: int64"
      ]
     },
     "execution_count": 9,
     "metadata": {},
     "output_type": "execute_result"
    }
   ],
   "source": [
    "X['age'].mode()"
   ]
  },
  {
   "cell_type": "markdown",
   "metadata": {},
   "source": [
    "### Correlação\n",
    "\n"
   ]
  },
  {
   "cell_type": "code",
   "execution_count": 10,
   "metadata": {},
   "outputs": [
    {
     "name": "stdout",
     "output_type": "stream",
     "text": [
      "t-statistic: -0.7624734701767805\n"
     ]
    }
   ],
   "source": [
    "idade_m = X[X['sex'] == 'male']['age']\n",
    "idade_f = X[X['sex'] == 'female']['age']\n",
    "t = (idade_m.mean() - idade_f.mean()) / np.sqrt((idade_m.var(ddof=1)/len(idade_m) + idade_f.var(ddof=1) / len(idade_f)))\n",
    "print(f\"t-statistic: {t}\")\n",
    "import scipy.stats as stats\n",
    "\n",
    "t_crit = stats.t.ppf(0.975, len(idade_m)+len(idade_f)-2)\n",
    "t_crit"
   ]
  },
  {
   "cell_type": "code",
   "execution_count": 11,
   "metadata": {},
   "outputs": [
    {
     "data": {
      "text/plain": [
       "1.9617412190546957"
      ]
     },
     "execution_count": 11,
     "metadata": {},
     "output_type": "execute_result"
    }
   ],
   "source": [
    "import scipy.stats as stats\n",
    "\n",
    "t_crit = stats.t.ppf(0.975, len(idade_m)+len(idade_f)-2)\n",
    "t_crit"
   ]
  },
  {
   "cell_type": "code",
   "execution_count": 12,
   "metadata": {},
   "outputs": [
    {
     "name": "stdout",
     "output_type": "stream",
     "text": [
      "t-statistic: 1.697027933124022\n"
     ]
    }
   ],
   "source": [
    "imc_m = X[X['sex'] == 'male']['imc']\n",
    "imc_f = X[X['sex'] == 'female']['imc']\n",
    "t = (imc_m.mean() - imc_f.mean()) / np.sqrt((imc_m.var(ddof=1)/len(imc_m) + imc_f.var(ddof=1) / len(imc_f)))\n",
    "print(f\"t-statistic: {t}\")"
   ]
  },
  {
   "cell_type": "code",
   "execution_count": 13,
   "metadata": {},
   "outputs": [
    {
     "name": "stdout",
     "output_type": "stream",
     "text": [
      "t-statistic: -0.9209603068505062\n"
     ]
    }
   ],
   "source": [
    "idade_s_y = X[X['smoke'] == 'yes']['age']\n",
    "idade_s_n = X[X['smoke'] == 'no']['age']\n",
    "t = (idade_s_y.mean() - idade_s_n.mean()) / np.sqrt((idade_s_y.var(ddof=1)/len(idade_s_y) + idade_s_n.var(ddof=1) / len(idade_s_n)))\n",
    "print(f\"t-statistic: {t}\")"
   ]
  },
  {
   "cell_type": "code",
   "execution_count": 14,
   "metadata": {},
   "outputs": [
    {
     "name": "stdout",
     "output_type": "stream",
     "text": [
      "t-statistic: 0.1335212194724234\n"
     ]
    }
   ],
   "source": [
    "imc_s_y = X[X['smoke'] == 'yes']['imc']\n",
    "imc_s_n = X[X['smoke'] == 'no']['imc']\n",
    "t = (imc_s_y.mean() - imc_s_n.mean()) / np.sqrt((imc_s_y.var(ddof=1)/len(imc_s_y) + imc_s_n.var(ddof=1) / len(imc_s_n)))\n",
    "print(f\"t-statistic: {t}\")"
   ]
  },
  {
   "cell_type": "markdown",
   "metadata": {},
   "source": [
    "### ANOVA"
   ]
  },
  {
   "cell_type": "code",
   "execution_count": 15,
   "metadata": {},
   "outputs": [
    {
     "name": "stdout",
     "output_type": "stream",
     "text": [
      "<class 'pandas.core.frame.DataFrame'>\n",
      "RangeIndex: 1338 entries, 0 to 1337\n",
      "Data columns (total 6 columns):\n",
      " #   Column    Non-Null Count  Dtype  \n",
      "---  ------    --------------  -----  \n",
      " 0   age       1338 non-null   int64  \n",
      " 1   sex       1338 non-null   object \n",
      " 2   imc       1338 non-null   float64\n",
      " 3   children  1338 non-null   int64  \n",
      " 4   smoke     1338 non-null   object \n",
      " 5   region    1338 non-null   object \n",
      "dtypes: float64(1), int64(2), object(3)\n",
      "memory usage: 62.8+ KB\n"
     ]
    }
   ],
   "source": [
    "X.info()"
   ]
  },
  {
   "cell_type": "code",
   "execution_count": 16,
   "metadata": {},
   "outputs": [
    {
     "data": {
      "text/plain": [
       "region\n",
       "southeast    364\n",
       "southwest    325\n",
       "northwest    325\n",
       "northeast    324\n",
       "Name: count, dtype: int64"
      ]
     },
     "execution_count": 16,
     "metadata": {},
     "output_type": "execute_result"
    }
   ],
   "source": [
    "X['region'].value_counts()"
   ]
  },
  {
   "cell_type": "code",
   "execution_count": 17,
   "metadata": {},
   "outputs": [
    {
     "name": "stdout",
     "output_type": "stream",
     "text": [
      "Estatística F: 0.07978158162436415\n",
      "Valor Crítico F: 2.611573218649548\n",
      "Não rejeitamos a hipótese nula.\n"
     ]
    }
   ],
   "source": [
    "from scipy.stats import f\n",
    "age_se = np.array(X[X['region'] == 'southeast']['age'])\n",
    "age_sw = np.array(X[X['region'] == 'southwest']['age'])\n",
    "age_ne = np.array(X[X['region'] == 'northwest']['age'])\n",
    "age_bw = np.array(X[X['region'] == 'northeast']['age'])\n",
    "\n",
    "mean_se = np.mean(age_se)\n",
    "mean_sw = np.mean(age_sw)\n",
    "mean_ne = np.mean(age_ne)\n",
    "mean_bw = np.mean(age_bw)\n",
    "\n",
    "all_a_r = np.concatenate([age_se, age_sw, age_ne, age_bw])\n",
    "mean_all = np.mean(all_a_r)\n",
    "\n",
    "k = 4\n",
    "N = len(all_a_r)\n",
    "\n",
    "\n",
    "QT = np.sum((all_a_r - mean_all) ** 2)\n",
    "\n",
    "QG = len(age_se) * (mean_se - mean_all) ** 2 + \\\n",
    "     len(age_sw) * (mean_sw - mean_all) ** 2 + \\\n",
    "     len(age_ne) * (mean_ne - mean_all) ** 2 + \\\n",
    "     len(age_bw) * (mean_bw - mean_all) ** 2\n",
    "\n",
    "QD = np.sum((age_se - mean_se) ** 2) + \\\n",
    "     np.sum((age_sw - mean_sw) ** 2) + \\\n",
    "     np.sum((age_ne - mean_ne) ** 2) + \\\n",
    "     np.sum((age_bw - mean_bw) ** 2)\n",
    "\n",
    "df_between = k - 1\n",
    "df_within = N - k\n",
    "\n",
    "# Quadrado Médio Entre Grupos\n",
    "MS_between = QG / df_between\n",
    "\n",
    "# Quadrado Médio Dentro dos Grupos\n",
    "MS_within = QD / df_within\n",
    "\n",
    "F = MS_between / MS_within\n",
    "\n",
    "alpha = 0.05\n",
    "F_crit = f.ppf(1 - alpha, df_between, df_within)\n",
    "\n",
    "print(f\"Estatística F: {F}\")\n",
    "print(f\"Valor Crítico F: {F_crit}\")\n",
    "\n",
    "if F > F_crit:\n",
    "    print(\"Rejeitamos a hipótese nula.\")\n",
    "else:\n",
    "    print(\"Não rejeitamos a hipótese nula.\")"
   ]
  },
  {
   "cell_type": "code",
   "execution_count": 18,
   "metadata": {},
   "outputs": [
    {
     "name": "stdout",
     "output_type": "stream",
     "text": [
      "3\n",
      "1334\n"
     ]
    }
   ],
   "source": [
    "print(df_between)\n",
    "print(df_within)"
   ]
  },
  {
   "cell_type": "code",
   "execution_count": 19,
   "metadata": {},
   "outputs": [
    {
     "name": "stdout",
     "output_type": "stream",
     "text": [
      "Estatística F: 1.497717337339237\n",
      "Valor Crítico F: 2.220817484845099\n",
      "Não rejeitamos a hipótese nula.\n"
     ]
    }
   ],
   "source": [
    "age_c0 = np.array(X[X['children'] == 0]['age'])\n",
    "age_c1 = np.array(X[X['children'] == 1]['age'])\n",
    "age_c2 = np.array(X[X['children'] == 2]['age'])\n",
    "age_c3 = np.array(X[X['children'] == 3]['age'])\n",
    "age_c4 = np.array(X[X['children'] == 4]['age'])\n",
    "age_c5 = np.array(X[X['children'] ==  5]['age'])\n",
    "\n",
    "mean_c0 = np.mean(age_c0)\n",
    "mean_c1 = np.mean(age_c1)\n",
    "mean_c2 = np.mean(age_c2)\n",
    "mean_c3 = np.mean(age_c3)\n",
    "mean_c4 = np.mean(age_c4)\n",
    "mean_c5 = np.mean(age_c5)\n",
    "\n",
    "all_a_c = np.concatenate([age_c0, age_c1, age_c2, age_c3, age_c4, age_c5])\n",
    "mean_all = np.mean(all_a_c)\n",
    "\n",
    "k = 6\n",
    "N = len(all_a_c)\n",
    "\n",
    "\n",
    "QG = len(age_c0) * (mean_c0 - mean_all) ** 2 + \\\n",
    "     len(age_c1) * (mean_c1 - mean_all) ** 2 + \\\n",
    "     len(age_c2) * (mean_c2 - mean_all) ** 2 + \\\n",
    "     len(age_c3) * (mean_c3 - mean_all) ** 2 + \\\n",
    "     len(age_c4) * (mean_c4 - mean_all) ** 2 + \\\n",
    "     len(age_c5) * (mean_c5 - mean_all) ** 2\n",
    "\n",
    "QD = np.sum((age_c0 - mean_c0) ** 2) + \\\n",
    "     np.sum((age_c1 - mean_c1) ** 2) + \\\n",
    "     np.sum((age_c2 - mean_c2) ** 2) + \\\n",
    "     np.sum((age_c3 - mean_c3) ** 2) + \\\n",
    "     np.sum((age_c4 - mean_c4) ** 2) + \\\n",
    "     np.sum((age_c5 - mean_c5) ** 2)\n",
    "\n",
    "\n",
    "df_between = k - 1\n",
    "df_within = N - k\n",
    "\n",
    "# Quadrado Médio Entre Grupos\n",
    "MS_between = QG / df_between\n",
    "\n",
    "# Quadrado Médio Dentro dos Grupos\n",
    "MS_within = QD / df_within\n",
    "\n",
    "F = MS_between / MS_within\n",
    "\n",
    "alpha = 0.05\n",
    "F_crit = f.ppf(1 - alpha, df_between, df_within)\n",
    "\n",
    "print(f\"Estatística F: {F}\")\n",
    "print(f\"Valor Crítico F: {F_crit}\")\n",
    "\n",
    "if F > F_crit:\n",
    "    print(\"Rejeitamos a hipótese nula.\")\n",
    "else:\n",
    "    print(\"Não rejeitamos a hipótese nula.\")"
   ]
  },
  {
   "cell_type": "code",
   "execution_count": 20,
   "metadata": {},
   "outputs": [
    {
     "name": "stdout",
     "output_type": "stream",
     "text": [
      "5\n",
      "1332\n"
     ]
    }
   ],
   "source": [
    "print(df_between)\n",
    "print(df_within)"
   ]
  },
  {
   "cell_type": "code",
   "execution_count": 21,
   "metadata": {},
   "outputs": [
    {
     "name": "stdout",
     "output_type": "stream",
     "text": [
      "Estatística F: 39.49505720170287\n",
      "Valor Crítico F: 2.611573218649548\n",
      "Rejeitamos a hipótese nula.\n"
     ]
    }
   ],
   "source": [
    "# Dados\n",
    "imc_se = np.array(X[X['region'] == 'southeast']['imc'])\n",
    "imc_sw = np.array(X[X['region'] == 'southwest']['imc'])\n",
    "imc_ne = np.array(X[X['region'] == 'northwest']['imc'])\n",
    "imc_bw = np.array(X[X['region'] == 'northeast']['imc'])\n",
    "\n",
    "# Cálculo das médias dos grupos\n",
    "mean_se = np.mean(imc_se)\n",
    "mean_sw = np.mean(imc_sw)\n",
    "mean_ne = np.mean(imc_ne)\n",
    "mean_bw = np.mean(imc_bw)\n",
    "\n",
    "# Concatenação de todas as amostras para calcular a média global\n",
    "all_i_r = np.concatenate([imc_se, imc_sw, imc_ne, imc_bw])\n",
    "mean_all = np.mean(all_i_r)\n",
    "\n",
    "# Número de grupos e total de amostras\n",
    "k = 4\n",
    "N = len(all_i_r)\n",
    "\n",
    "# Quadrado Total e Quadrado Dentro dos Grupos\n",
    "QG = len(imc_se) * (mean_se - mean_all) ** 2 + \\\n",
    "     len(imc_sw) * (mean_sw - mean_all) ** 2 + \\\n",
    "     len(imc_ne) * (mean_ne - mean_all) ** 2 + \\\n",
    "     len(imc_bw) * (mean_bw - mean_all) ** 2\n",
    "\n",
    "QD = np.sum((imc_se - mean_se) ** 2) + \\\n",
    "     np.sum((imc_sw - mean_sw) ** 2) + \\\n",
    "     np.sum((imc_ne - mean_ne) ** 2) + \\\n",
    "     np.sum((imc_bw - mean_bw) ** 2)\n",
    "\n",
    "# Graus de Liberdade\n",
    "df_between = k - 1\n",
    "df_within = N - k\n",
    "\n",
    "# Quadrado Médio Entre Grupos e Dentro dos Grupos\n",
    "MS_between = QG / df_between\n",
    "MS_within = QD / df_within\n",
    "\n",
    "# Estatística F\n",
    "F = MS_between / MS_within\n",
    "\n",
    "# Valor Crítico F\n",
    "alpha = 0.05\n",
    "F_crit = f.ppf(1 - alpha, df_between, df_within)\n",
    "\n",
    "# Resultados\n",
    "print(f\"Estatística F: {F}\")\n",
    "print(f\"Valor Crítico F: {F_crit}\")\n",
    "\n",
    "if F > F_crit:\n",
    "    print(\"Rejeitamos a hipótese nula.\")\n",
    "else:\n",
    "    print(\"Não rejeitamos a hipótese nula.\")"
   ]
  },
  {
   "cell_type": "code",
   "execution_count": 22,
   "metadata": {},
   "outputs": [
    {
     "name": "stdout",
     "output_type": "stream",
     "text": [
      "3\n",
      "1334\n"
     ]
    }
   ],
   "source": [
    "print(df_between)\n",
    "print(df_within)"
   ]
  },
  {
   "cell_type": "code",
   "execution_count": 23,
   "metadata": {},
   "outputs": [
    {
     "name": "stdout",
     "output_type": "stream",
     "text": [
      "Estatística F: 39.49505720170287\n",
      "Valor Crítico F: 2.611573218649548\n",
      "Rejeitamos a hipótese nula.\n"
     ]
    }
   ],
   "source": [
    "# Dados\n",
    "imc_se = np.array(X[X['region'] == 'southeast']['imc'])\n",
    "imc_sw = np.array(X[X['region'] == 'southwest']['imc'])\n",
    "imc_ne = np.array(X[X['region'] == 'northwest']['imc'])\n",
    "imc_bw = np.array(X[X['region'] == 'northeast']['imc'])\n",
    "\n",
    "# Cálculo das médias dos grupos\n",
    "mean_se = np.mean(imc_se)\n",
    "mean_sw = np.mean(imc_sw)\n",
    "mean_ne = np.mean(imc_ne)\n",
    "mean_bw = np.mean(imc_bw)\n",
    "\n",
    "# Concatenação de todas as amostras para calcular a média global\n",
    "all_i_r = np.concatenate([imc_se, imc_sw, imc_ne, imc_bw])\n",
    "mean_all = np.mean(all_i_r)\n",
    "\n",
    "# Número de grupos e total de amostras\n",
    "k = 4\n",
    "N = len(all_i_r)\n",
    "\n",
    "# Quadrado Total e Quadrado Dentro dos Grupos\n",
    "QG = len(imc_se) * (mean_se - mean_all) ** 2 + \\\n",
    "     len(imc_sw) * (mean_sw - mean_all) ** 2 + \\\n",
    "     len(imc_ne) * (mean_ne - mean_all) ** 2 + \\\n",
    "     len(imc_bw) * (mean_bw - mean_all) ** 2\n",
    "\n",
    "QD = np.sum((imc_se - mean_se) ** 2) + \\\n",
    "     np.sum((imc_sw - mean_sw) ** 2) + \\\n",
    "     np.sum((imc_ne - mean_ne) ** 2) + \\\n",
    "     np.sum((imc_bw - mean_bw) ** 2)\n",
    "\n",
    "# Graus de Liberdade\n",
    "df_between = k - 1\n",
    "df_within = N - k\n",
    "\n",
    "# Quadrado Médio Entre Grupos e Dentro dos Grupos\n",
    "MS_between = QG / df_between\n",
    "MS_within = QD / df_within\n",
    "\n",
    "# Estatística F\n",
    "F = MS_between / MS_within\n",
    "\n",
    "# Valor Crítico F\n",
    "alpha = 0.05\n",
    "F_crit = f.ppf(1 - alpha, df_between, df_within)\n",
    "\n",
    "# Resultados\n",
    "print(f\"Estatística F: {F}\")\n",
    "print(f\"Valor Crítico F: {F_crit}\")\n",
    "\n",
    "if F > F_crit:\n",
    "    print(\"Rejeitamos a hipótese nula.\")\n",
    "else:\n",
    "    print(\"Não rejeitamos a hipótese nula.\")"
   ]
  },
  {
   "cell_type": "code",
   "execution_count": 24,
   "metadata": {},
   "outputs": [
    {
     "name": "stdout",
     "output_type": "stream",
     "text": [
      "Estatística F: 0.7174932934640633\n",
      "Valor Crítico F: 2.611573218649548\n",
      "Não rejeitamos a hipótese nula.\n"
     ]
    }
   ],
   "source": [
    "from scipy.stats import f\n",
    "children_se = np.array(X[X['region'] == 'southeast']['children'])\n",
    "children_sw = np.array(X[X['region'] == 'southwest']['children'])\n",
    "children_ne = np.array(X[X['region'] == 'northwest']['children'])\n",
    "children_bw = np.array(X[X['region'] == 'northeast']['children'])\n",
    "\n",
    "mean_se = np.mean(children_se)\n",
    "mean_sw = np.mean(children_sw)\n",
    "mean_ne = np.mean(children_ne)\n",
    "mean_bw = np.mean(children_bw)\n",
    "\n",
    "all_c_r = np.concatenate([children_se, children_sw, children_ne, children_bw])\n",
    "mean_all = np.mean(all_c_r)\n",
    "\n",
    "k = 4\n",
    "N = len(all_c_r)\n",
    "\n",
    "\n",
    "QT = np.sum((all_c_r - mean_all) ** 2)\n",
    "\n",
    "QG = len(children_se) * (mean_se - mean_all) ** 2 + \\\n",
    "     len(children_sw) * (mean_sw - mean_all) ** 2 + \\\n",
    "     len(children_ne) * (mean_ne - mean_all) ** 2 + \\\n",
    "     len(children_bw) * (mean_bw - mean_all) ** 2\n",
    "\n",
    "QD = np.sum((children_se - mean_se) ** 2) + \\\n",
    "     np.sum((children_sw - mean_sw) ** 2) + \\\n",
    "     np.sum((children_ne - mean_ne) ** 2) + \\\n",
    "     np.sum((children_bw - mean_bw) ** 2)\n",
    "\n",
    "df_between = k - 1\n",
    "df_within = N - k\n",
    "\n",
    "# Quadrado Médio Entre Grupos\n",
    "MS_between = QG / df_between\n",
    "\n",
    "# Quadrado Médio Dentro dos Grupos\n",
    "MS_within = QD / df_within\n",
    "\n",
    "F = MS_between / MS_within\n",
    "\n",
    "alpha = 0.05\n",
    "F_crit = f.ppf(1 - alpha, df_between, df_within)\n",
    "\n",
    "print(f\"Estatística F: {F}\")\n",
    "print(f\"Valor Crítico F: {F_crit}\")\n",
    "\n",
    "if F > F_crit:\n",
    "    print(\"Rejeitamos a hipótese nula.\")\n",
    "else:\n",
    "    print(\"Não rejeitamos a hipótese nula.\")"
   ]
  },
  {
   "cell_type": "code",
   "execution_count": 25,
   "metadata": {},
   "outputs": [
    {
     "name": "stdout",
     "output_type": "stream",
     "text": [
      "3\n",
      "1334\n"
     ]
    }
   ],
   "source": [
    "print(df_between)\n",
    "print(df_within)"
   ]
  },
  {
   "cell_type": "code",
   "execution_count": 29,
   "metadata": {},
   "outputs": [
    {
     "name": "stdout",
     "output_type": "stream",
     "text": [
      "t-statistic: 2.1008878232359565\n"
     ]
    },
    {
     "data": {
      "text/plain": [
       "1.9617412190546957"
      ]
     },
     "execution_count": 29,
     "metadata": {},
     "output_type": "execute_result"
    }
   ],
   "source": [
    "custo_m = y[X['sex'] == 'male']\n",
    "custo_f = y[X['sex'] == 'female']\n",
    "t = (custo_m.mean() - custo_f.mean()) / np.sqrt((custo_m.var(ddof=1)/len(custo_m) + custo_f.var(ddof=1) / len(custo_f)))\n",
    "print(f\"t-statistic: {t}\")\n",
    "import scipy.stats as stats\n",
    "\n",
    "t_crit = stats.t.ppf(0.975, len(custo_m)+len(custo_f)-2)\n",
    "t_crit"
   ]
  },
  {
   "cell_type": "markdown",
   "metadata": {},
   "source": [
    "### IMC - Região"
   ]
  },
  {
   "cell_type": "code",
   "execution_count": null,
   "metadata": {},
   "outputs": [],
   "source": [
    "plt.figure(figsize=(12, 6))\n",
    "plt.boxplot([X[X['region'] == region]['imc'] for region in X['region'].unique()],\n",
    "            labels=X['region'].unique())\n",
    "plt.xlabel('Região')\n",
    "plt.ylabel('IMC')\n",
    "plt.title('Boxplot do IMC por Região')\n",
    "plt.xticks(rotation=45)\n",
    "plt.show()"
   ]
  },
  {
   "cell_type": "markdown",
   "metadata": {},
   "source": [
    "## Variável Resposta"
   ]
  },
  {
   "cell_type": "code",
   "execution_count": null,
   "metadata": {},
   "outputs": [],
   "source": [
    "custo_m = y[X['sex'] == 'male']\n",
    "custo_f = y[X['sex'] == 'female']\n",
    "t = (custo_m.mean() - custo_f.mean()) / np.sqrt((custo_m.var(ddof=1)/len(custo_m) + custo_f.var(ddof=1) / len(custo_f)))\n",
    "print(f\"t-statistic: {t}\")\n",
    "import scipy.stats as stats\n",
    "\n",
    "t_crit = stats.t.ppf(0.975, len(custo_m)+len(custo_f)-2)\n",
    "t_crit"
   ]
  },
  {
   "cell_type": "code",
   "execution_count": 31,
   "metadata": {},
   "outputs": [
    {
     "name": "stdout",
     "output_type": "stream",
     "text": [
      "t-statistic: 32.751887766341824\n"
     ]
    },
    {
     "data": {
      "text/plain": [
       "1.9617412190546957"
      ]
     },
     "execution_count": 31,
     "metadata": {},
     "output_type": "execute_result"
    }
   ],
   "source": [
    "custo_s_y = y[X['smoke'] == 'yes']\n",
    "custo_s_n = y[X['smoke'] == 'no']\n",
    "t = (custo_s_y.mean() - custo_s_n.mean()) / np.sqrt((custo_s_y.var(ddof=1)/len(custo_s_y) + custo_s_n.var(ddof=1) / len(custo_s_n)))\n",
    "print(f\"t-statistic: {t}\")\n",
    "import scipy.stats as stats\n",
    "\n",
    "t_crit = stats.t.ppf(0.975, len(custo_s_y)+len(custo_s_n)-2)\n",
    "t_crit"
   ]
  },
  {
   "cell_type": "code",
   "execution_count": 26,
   "metadata": {},
   "outputs": [],
   "source": [
    "dummie = pd.get_dummies(X, ['sex', 'smoke', 'region'])\n",
    "X_t = pd.concat([X,dummie],axis=1)\n",
    "X_t.drop(columns={'sex', 'smoke', 'region'}, inplace=True)\n",
    "X_train, X_test, y_train, y_test = train_test_split(X_t, y, test_size=0.2, random_state=42)"
   ]
  },
  {
   "cell_type": "code",
   "execution_count": 32,
   "metadata": {},
   "outputs": [
    {
     "data": {
      "image/png": "[encoded data removed]",
      "text/plain": [
       "<Figure size 1200x600 with 1 Axes>"
      ]
     },
     "metadata": {},
     "output_type": "display_data"
    }
   ],
   "source": [
    "plt.figure(figsize=(12, 6))\n",
    "plt.boxplot([y[X['sex'] == region]for region in X['sex'].unique()],\n",
    "            labels=X['sex'].unique())\n",
    "plt.xlabel('Região')\n",
    "plt.ylabel('IMC')\n",
    "plt.title('Boxplot do IMC por Região')\n",
    "plt.xticks(rotation=45)\n",
    "plt.show()"
   ]
  },
  {
   "cell_type": "code",
   "execution_count": 33,
   "metadata": {},
   "outputs": [
    {
     "data": {
      "image/png": "[encoded data removed]",
      "text/plain": [
       "<Figure size 1200x600 with 1 Axes>"
      ]
     },
     "metadata": {},
     "output_type": "display_data"
    }
   ],
   "source": [
    "plt.figure(figsize=(12, 6))\n",
    "plt.boxplot([y[X['smoke'] == region]for region in X['smoke'].unique()],\n",
    "            labels=X['smoke'].unique())\n",
    "plt.xlabel('Região')\n",
    "plt.ylabel('IMC')\n",
    "plt.title('Boxplot do IMC por Região')\n",
    "plt.xticks(rotation=45)\n",
    "plt.show()"
   ]
  }
 ],
 "metadata": {
  "kernelspec": {
   "display_name": "am",
   "language": "python",
   "name": "python3"
  },
  "language_info": {
   "codemirror_mode": {
    "name": "ipython",
    "version": 3
   },
   "file_extension": ".py",
   "mimetype": "text/x-python",
   "name": "python",
   "nbconvert_exporter": "python",
   "pygments_lexer": "ipython3",
   "version": "3.9.18"
  }
 },
 "nbformat": 4,
 "nbformat_minor": 2
}
