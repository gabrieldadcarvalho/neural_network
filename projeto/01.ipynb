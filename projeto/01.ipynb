{
 "cells": [
  {
   "cell_type": "markdown",
   "metadata": {},
   "source": [
    "---\n",
    "<h1 style=\"text-align: center;\">Modelagem de Redes Neurais para Previsão de Custos em Seguros de Saúde</h1>\n",
    "\n",
    "*Discente:*\n",
    "\n",
    "    *   Gabriel D'assumpção de Carvalho\n",
    "\n",
    "*Data:* 19/08/2024\n",
    "\n",
    "---\n",
    "---"
   ]
  },
  {
   "cell_type": "markdown",
   "metadata": {},
   "source": [
    "# Introdução"
   ]
  },
  {
   "cell_type": "markdown",
   "metadata": {},
   "source": [
    "As doenças cardiovasculares permanecem como a principal causa de mortalidade no Brasil, de acordo com o estudo Global Burden of Disease (GBD) de 2019 e os dados do Sistema Único de Saúde (SUS). O aumento preocupante na incidência de ataques cardíacos entre jovens e adultos é amplamente atribuído à falta de atividade física e a uma dieta inadequada. Esse panorama sublinha a necessidade urgente de promover hábitos de vida mais saudáveis, seguindo a recomendação de Michael Pollan: \"descasque mais, desembale menos\", que incentiva o consumo de alimentos frescos e não processados.\n",
    "\n",
    "A deterioração da saúde pública tem levado a um crescimento significativo no setor de planos de saúde. De acordo com a Agência Nacional de Saúde Suplementar (ANS), o Brasil registrou um aumento de aproximadamente 20,5 milhões de novos beneficiários de planos de assistência médica entre março de 2000 e junho de 2024.\n",
    "\n",
    "<p align=\"center\">\n",
    "  <span style=\"font-size: smaller;\">Gráfico 01</span>\n",
    "</p>\n",
    "<p align=\"center\">\n",
    "  <img src=\"beneficiario_ans.png\" alt=\"Gráfico mostrando o crescimento dos beneficiários de planos de saúde no Brasil\" width=\"800\"/>\n",
    "</div>\n",
    "</p>\n",
    "<p align=\"center\">\n",
    "  <span style=\"font-size: smaller;\">Fonte: Agência Nacional de Seguro (ANS)\n",
    "  </span>\n",
    "</p>\n",
    "\n",
    "O gráfico acima ilustra o aumento no número de beneficiários ao longo de 24 anos, refletindo a crescente demanda por cuidados médicos. Esse crescimento torna essencial a análise e previsão das despesas associadas aos seguros de saúde, que é o objetivo principal deste projeto.\n",
    "\n",
    "Para a realização desta análise, será utilizada uma base de dados disponível no [Kaggle](https://www.kaggle.com/datasets/willianoliveiragibin/healthcare-insurance/data). Esta base contém 303 observações e 6 características, com o custo do seguro médico sendo a variável alvo. A seguir, apresentamos as variáveis da base de dados:\n",
    "\n",
    "| Atributo   | Descrição                                                      | Tipo                    |\n",
    "|------------|----------------------------------------------------------------|-------------------------|\n",
    "| Idade      | A idade da pessoa segurada.                                    | Inteiro                 |\n",
    "| Sexo       | Gênero (masculino ou feminino) do segurado.                     | Categórico - Binário    |\n",
    "| IMC        | Índice de Massa Corporal: uma medida de gordura corporal baseada na altura e no peso. | Contínuo                |\n",
    "| Crianças   | O número de dependentes cobertos.                               | Inteiro                 |\n",
    "| Fumante    | Se o segurado é fumante (sim ou não).                           | Categórico - Binário    |\n",
    "| Região     | A área geográfica de cobertura.                                | Categórico - Nominal    |\n",
    "| Encargos   | Os custos do seguro médico incorridos pelo segurado.            | Contínuo                |\n"
   ]
  },
  {
   "cell_type": "markdown",
   "metadata": {},
   "source": [
    "# Fundamentos Teóricos e Metodológicos"
   ]
  },
  {
   "cell_type": "markdown",
   "metadata": {},
   "source": [
    "O objetivo deste trabalho é prever os custos do seguro médico com base nas características dos clientes, configurando-se como um problema de regressão. A abordagem tradicional de regressão linear pode ser representada pela seguinte equação:\n",
    "\n",
    "<p style=\"text-align: right;\">\n",
    "(1)\n",
    "</p>\n",
    "\n",
    "$$\n",
    "\\hat{y} = \\beta_{0} + \\beta_{1} \\cdot x_{1} + \\epsilon \\hspace{3em} \\text{(1)}\n",
    "$$\n",
    "\n",
    "Entretanto, as suposições subjacentes à regressão linear, como a normalidade das variáveis, a independência entre as características dos clientes e a normalidade dos resíduos, podem não ser atendidas neste contexto. Por essa razão, este estudo opta por utilizar redes neurais, especificamente o Perceptron Multicamadas (MLP), para realizar a previsão dos custos do seguro.\n",
    "\n",
    "Modelos com múltiplas camadas, como o MLP, são mais adequados para resolver problemas complexos. Redes com $S \\in \\mathbb{N}$ neurônios são compostas por conjuntos de neurônios $O = \\{o_1, o_2, \\ldots, o_s\\}$, vieses  $B = \\{b_1, b_2, \\ldots, b_s\\}$, e pesos $W = \\{w_{1,1}, w_{1,2}, \\ldots, w_{1,k}, w_{2,1}, w_{2,2}, \\ldots, w_{2,k}, \\ldots, w_{j,k}\\}$.\n",
    "\n",
    "\n",
    "Copy code\n",
    "<p align=\"center\">\n",
    "  <span style=\"font-size: smaller;\">Gráfico 02</span>\n",
    "</p>\n",
    "<div style=\"text-align: center;\">\n",
    "    <img src=\"multicamadas_perceptron.png\" alt=\"Arquitetura do Perceptron Multicamadas\" width=\"400\"/>\n",
    "</div>  \n",
    "<p align=\"center\">\n",
    "  <span style=\"font-size: smaller;\">Fonte: <a href=\"https://www.researchgate.net/figure/Schematic-structure-of-a-perceptron-neural-network_fig2_260291992\">https://www.researchgate.net/figure/Schematic-structure-of-a-perceptron-neural-network_fig2_260291992</a></span>\n",
    "</p>\n",
    "\n",
    "A entrada dos neurônios a partir da segunda camada oculta depende da saída dos neurônios da camada anterior. A função de ativação é dada por:\n",
    "\n",
    "\n",
    "$$\n",
    "\\phi_i(net_j) = \\phi_i\\left(\\sum_{k=1}^{n} w_{k,j} \\cdot o_k + b_j\\right)\n",
    "$$\n",
    "\n",
    "onde\n",
    "\n",
    "$$\n",
    "net_j = \\sum_{k=1}^{n} w_{k,j} \\cdot o_k + b_j\n",
    "$$\n",
    "\n"
   ]
  },
  {
   "cell_type": "markdown",
   "metadata": {},
   "source": [
    "\n",
    "\n",
    "Este crescimento reflete a crescente demanda por cuidados médicos, tornando crucial a análise e previsão das despesas associadas aos seguros de saúde, que é o foco deste projeto de aprendizado de máquina."
   ]
  },
  {
   "cell_type": "markdown",
   "metadata": {},
   "source": [
    "## Bibliotecas Utilizadas"
   ]
  },
  {
   "cell_type": "code",
   "execution_count": 1,
   "metadata": {},
   "outputs": [
    {
     "name": "stderr",
     "output_type": "stream",
     "text": [
      "2024-08-24 08:55:28.755346: I tensorflow/core/platform/cpu_feature_guard.cc:193] This TensorFlow binary is optimized with oneAPI Deep Neural Network Library (oneDNN) to use the following CPU instructions in performance-critical operations:  SSE4.1 SSE4.2 AVX AVX2 FMA\n",
      "To enable them in other operations, rebuild TensorFlow with the appropriate compiler flags.\n"
     ]
    }
   ],
   "source": [
    "# Configurando o modo de exibição do pandas\n",
    "import pandas as pd\n",
    "pd.options.display.float_format = \"{:.4f}\".format\n",
    "\n",
    "import numpy as np\n",
    "from matplotlib import pyplot as plt\n",
    "import tensorflow as tf\n",
    "from tensorflow import keras\n",
    "from sklearn.model_selection import train_test_split\n",
    "from sklearn.preprocessing import StandardScaler\n",
    "\n",
    "# Desativa todos os avisos\n",
    "import warnings\n",
    "warnings.filterwarnings(\"ignore\")"
   ]
  },
  {
   "cell_type": "markdown",
   "metadata": {},
   "source": [
    "# Coleta dos Dados"
   ]
  },
  {
   "cell_type": "code",
   "execution_count": 12,
   "metadata": {},
   "outputs": [],
   "source": [
    "df = pd.read_csv(\"https://raw.githubusercontent.com/gabrieldadcarvalho/neural_network/main/projeto/insurance.csv\")\n",
    "\n",
    "X = df.iloc[:, :-1]\n",
    "y = df.iloc[:, -1]"
   ]
  },
  {
   "cell_type": "code",
   "execution_count": 10,
   "metadata": {},
   "outputs": [
    {
     "data": {
      "text/plain": [
       "1338"
      ]
     },
     "execution_count": 10,
     "metadata": {},
     "output_type": "execute_result"
    }
   ],
   "source": [
    "len(X)"
   ]
  },
  {
   "cell_type": "markdown",
   "metadata": {},
   "source": [
    "# Exploração dos Dados"
   ]
  },
  {
   "cell_type": "markdown",
   "metadata": {},
   "source": [
    "A exploração dos dados visa identificar padrões, tendências e anomalias que podem impactar a análise. Outliers são identificados e avaliados quanto à sua significância, enquanto correlações entre variáveis são analisadas para identificar relações importantes. A análise de variáveis categóricas inclui a avaliação das frequências e modas, e visualizações adicionais, como heatmaps e pair plots, são utilizadas para suportar a análise e identificar padrões mais complexos."
   ]
  },
  {
   "cell_type": "code",
   "execution_count": 15,
   "metadata": {},
   "outputs": [
    {
     "name": "stdout",
     "output_type": "stream",
     "text": [
      "   age     sex     imc  children smoke     region\n",
      "0   19  female 27.9000         0   yes  southwest\n",
      "1   18    male 33.7700         1    no  southeast\n",
      "2   28    male 33.0000         3    no  southeast\n",
      "3   33    male 22.7050         0    no  northwest\n",
      "4   32    male 28.8800         0    no  northwest\n"
     ]
    }
   ],
   "source": [
    "# Verificando as 5 primeiras linhas de x\n",
    "print(X.head())"
   ]
  },
  {
   "cell_type": "code",
   "execution_count": 13,
   "metadata": {},
   "outputs": [
    {
     "name": "stdout",
     "output_type": "stream",
     "text": [
      "0    1\n",
      "1    1\n",
      "2    1\n",
      "3    1\n",
      "4    1\n",
      "Name: output, dtype: int64\n"
     ]
    }
   ],
   "source": [
    "# Verificando as 5 primeiras linhas de x\n",
    "print(y.head())"
   ]
  },
  {
   "cell_type": "markdown",
   "metadata": {},
   "source": [
    "## Variáveis Explicativas\n",
    "Vamos realizar uma análise exploratória das variáveis explicativas do conjunto de dados. Abaixo estão as estatísticas descritivas e visualizações para cada variável."
   ]
  },
  {
   "cell_type": "markdown",
   "metadata": {},
   "source": [
    "### Idade"
   ]
  },
  {
   "cell_type": "code",
   "execution_count": 13,
   "metadata": {},
   "outputs": [
    {
     "data": {
      "text/plain": [
       "count   1338.0000\n",
       "mean      39.2070\n",
       "std       14.0500\n",
       "min       18.0000\n",
       "25%       27.0000\n",
       "50%       39.0000\n",
       "75%       51.0000\n",
       "max       64.0000\n",
       "Name: age, dtype: float64"
      ]
     },
     "execution_count": 13,
     "metadata": {},
     "output_type": "execute_result"
    }
   ],
   "source": [
    "X['age'].describe()"
   ]
  },
  {
   "cell_type": "code",
   "execution_count": 14,
   "metadata": {},
   "outputs": [
    {
     "data": {
      "text/plain": [
       "0    18\n",
       "Name: age, dtype: int64"
      ]
     },
     "execution_count": 14,
     "metadata": {},
     "output_type": "execute_result"
    }
   ],
   "source": [
    "X['age'].mode()"
   ]
  },
  {
   "cell_type": "markdown",
   "metadata": {},
   "source": [
    "Ao visualizar as estatisticas da variável idade, podemos perceber que"
   ]
  },
  {
   "cell_type": "code",
   "execution_count": 24,
   "metadata": {},
   "outputs": [],
   "source": [
    "dummie = pd.get_dummies(X, ['sex', 'smoke', 'region'])\n",
    "X_t = pd.concat([X,dummie],axis=1)\n",
    "X_t.drop(columns={'sex', 'smoke', 'region'}, inplace=True)\n",
    "X_train, X_test, y_train, y_test = train_test_split(X_t, y, test_size=0.2, random_state=42)"
   ]
  }
 ],
 "metadata": {
  "kernelspec": {
   "display_name": "am",
   "language": "python",
   "name": "python3"
  },
  "language_info": {
   "codemirror_mode": {
    "name": "ipython",
    "version": 3
   },
   "file_extension": ".py",
   "mimetype": "text/x-python",
   "name": "python",
   "nbconvert_exporter": "python",
   "pygments_lexer": "ipython3",
   "version": "3.9.18"
  }
 },
 "nbformat": 4,
 "nbformat_minor": 2
}
