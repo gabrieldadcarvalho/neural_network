{
 "cells": [
  {
   "cell_type": "markdown",
   "metadata": {},
   "source": [
    "---\n",
    "<h1 style=\"text-align: center;\">Modelagem de Redes Neurais para Previsão de Custos em Seguros de Saúde</h1>\n",
    "\n",
    "*Discente:*\n",
    "\n",
    "    *   Gabriel D'assumpção de Carvalho\n",
    "\n",
    "*Data:* 19/08/2024\n",
    "\n",
    "---\n",
    "---"
   ]
  },
  {
   "cell_type": "markdown",
   "metadata": {},
   "source": [
    "# Introdução"
   ]
  },
  {
   "cell_type": "markdown",
   "metadata": {},
   "source": [
    "As doenças cardiovasculares continuam sendo a principal causa de mortalidade no Brasil, de acordo com\n",
    "o estudo Global Burden of Disease (GBD) de 2019 e os dados do Sistema Único de Saúde (SUS). O\n",
    "preocupante aumento na incidência de ataques cardíacos entre jovens e adultos é amplamente atribuído\n",
    "à falta de atividade física e a uma dieta inadequada. Esse panorama destaca a urgência de promover\n",
    "hábitos de vida mais saudáveis, seguindo a recomendação de Michael Pollan: “descasque mais, desembale\n",
    "menos”, que incentiva o consumo de alimentos frescos e não processados.\n",
    "\n",
    "A deterioração da saúde pública tem impulsionado o crescimento do setor de planos de saúde. De\n",
    "acordo com a Agência Nacional de Saúde Suplementar (ANS), o Brasil registrou um aumento de apro-\n",
    "ximadamente 20,5 milhões de novos beneficiários de planos de assistência médica entre março de 2000 e\n",
    "junho de 2024.\n",
    "\n",
    "<p align=\"center\">\n",
    "  <span style=\"font-size: smaller;\">Gráfico 01</span>\n",
    "</p>\n",
    "<p align=\"center\">\n",
    "  <img src=\"beneficiario_ans.png\" alt=\"Gráfico mostrando o crescimento dos beneficiários de planos de saúde no Brasil\" width=\"800\"/>\n",
    "</div>\n",
    "</p>\n",
    "<p align=\"center\">\n",
    "  <span style=\"font-size: smaller;\">Fonte: Agência Nacional de Seguro (ANS)\n",
    "  </span>\n",
    "</p>\n",
    "\n",
    "O gráfico acima ilustra o aumento no número de beneficiários ao longo de 24 anos, evidenciando\n",
    "a crescente demanda por cuidados médicos. Esse crescimento torna essencial a análise e previsão das\n",
    "despesas associadas aos seguros de saúde, objetivo principal deste projeto.\n",
    "Para realizar esta análise, será utilizada uma base de dados disponível no [Kaggle](https://www.kaggle.com/datasets/willianoliveiragibin/healthcare-insurance/data). A base contém\n",
    "1.338 observações e 6 características, com o custo do seguro médico como variável alvo. A seguir, estão\n",
    "as variáveis da base de dados:\n",
    "\n",
    "\n",
    "| Atributo   | Descrição                                                      | Tipo                    |\n",
    "|------------|----------------------------------------------------------------|-------------------------|\n",
    "| Idade      | A idade da pessoa segurada.                                    | Inteiro                 |\n",
    "| Sexo       | Gênero (masculino ou feminino) do segurado.                     | Categórico - Binário    |\n",
    "| IMC        | Índice de Massa Corporal: uma medida de gordura corporal baseada na altura e no peso. | Contínuo                |\n",
    "| Crianças   | O número de dependentes cobertos.                               | Inteiro                 |\n",
    "| Fumante    | Se o segurado é fumante (sim ou não).                           | Categórico - Binário    |\n",
    "| Região     | A área geográfica de cobertura.                                | Categórico - Nominal    |\n",
    "| Encargos   | Os custos do seguro médico incorridos pelo segurado.            | Contínuo                |\n"
   ]
  },
  {
   "cell_type": "markdown",
   "metadata": {},
   "source": [
    "# Fundamentos Teóricos e Metodológicos"
   ]
  },
  {
   "cell_type": "markdown",
   "metadata": {},
   "source": [
    "O objetivo deste trabalho é prever os custos do seguro médico com base nas características dos clientes,\n",
    "configurando-se como um problema de regressão. A abordagem tradicional de regressão linear pode ser\n",
    "representada pela seguinte equação:\n",
    "\n",
    "<p style=\"text-align: right;\">\n",
    "(1)\n",
    "</p>\n",
    "\n",
    "$$\n",
    "\\hat{y} = \\beta_{0} + \\beta_{1} \\cdot x_{1} + \\epsilon \\hspace{3em} \\text{(1)}\n",
    "$$\n",
    "\n",
    "Entretanto, as suposições subjacentes à regressão linear, como a normalidade das variáveis, a independência entre as características dos clientes e a normalidade dos resíduos, podem não ser atendidas neste contexto. Por essa razão, este estudo opta por utilizar redes neurais, especificamente o Perceptron Multicamadas (MLP), para realizar a previsão dos custos do seguro.\n",
    "\n",
    "Modelos com múltiplas camadas, como o MLP, são mais adequados para resolver problemas complexos. Redes com $S \\in \\mathbb{N}$ neurônios são compostas por conjuntos de neurônios $O = \\{o_1, o_2, \\ldots, o_s\\}$, vieses  $B = \\{b_1, b_2, \\ldots, b_s\\}$, e pesos $W = \\{w_{1,1}, w_{1,2}, \\ldots, w_{1,k}, w_{2,1}, w_{2,2}, \\ldots, w_{2,k}, \\ldots, w_{j,k}\\}$.\n",
    "\n",
    "\n",
    "Copy code\n",
    "<p align=\"center\">\n",
    "  <span style=\"font-size: smaller;\">Gráfico 02</span>\n",
    "</p>\n",
    "<div style=\"text-align: center;\">\n",
    "    <img src=\"multicamadas_perceptron.png\" alt=\"Arquitetura do Perceptron Multicamadas\" width=\"400\"/>\n",
    "</div>  \n",
    "<p align=\"center\">\n",
    "  <span style=\"font-size: smaller;\">Fonte: <a href=\"https://www.researchgate.net/figure/Schematic-structure-of-a-perceptron-neural-network_fig2_260291992\">https://www.researchgate.net/figure/Schematic-structure-of-a-perceptron-neural-network_fig2_260291992</a></span>\n",
    "</p>\n",
    "\n",
    "A entrada dos neurônios a partir da segunda camada oculta depende da saída dos neurônios da camada anterior. A função de ativação é dada por:\n",
    "\n",
    "\n",
    "$$\n",
    "\\phi_i(net_j) = \\phi_i\\left(\\sum_{k=1}^{n} w_{k,j} \\cdot o_k + b_j\\right)\n",
    "$$\n",
    "\n",
    "onde\n",
    "\n",
    "$$\n",
    "net_j = \\sum_{k=1}^{n} w_{k,j} \\cdot o_k + b_j\n",
    "$$\n",
    "\n"
   ]
  },
  {
   "cell_type": "markdown",
   "metadata": {},
   "source": [
    "\n",
    "\n",
    "Este crescimento reflete a crescente demanda por cuidados médicos, tornando crucial a análise e previsão das despesas associadas aos seguros de saúde, que é o foco deste projeto de aprendizado de máquina."
   ]
  },
  {
   "cell_type": "markdown",
   "metadata": {},
   "source": [
    "## Bibliotecas Utilizadas"
   ]
  },
  {
   "cell_type": "code",
   "execution_count": 2,
   "metadata": {},
   "outputs": [
    {
     "ename": "ModuleNotFoundError",
     "evalue": "No module named 'tensorflow.keras'",
     "output_type": "error",
     "traceback": [
      "\u001b[0;31m---------------------------------------------------------------------------\u001b[0m",
      "\u001b[0;31mModuleNotFoundError\u001b[0m                       Traceback (most recent call last)",
      "Cell \u001b[0;32mIn[2], line 14\u001b[0m\n\u001b[1;32m     12\u001b[0m \u001b[38;5;28;01mimport\u001b[39;00m \u001b[38;5;21;01mtensorflow\u001b[39;00m \u001b[38;5;28;01mas\u001b[39;00m \u001b[38;5;21;01mtf\u001b[39;00m\n\u001b[1;32m     13\u001b[0m \u001b[38;5;28;01mfrom\u001b[39;00m \u001b[38;5;21;01mtensorflow\u001b[39;00m \u001b[38;5;28;01mimport\u001b[39;00m keras \n\u001b[0;32m---> 14\u001b[0m \u001b[38;5;28;01mfrom\u001b[39;00m \u001b[38;5;21;01mtensorflow\u001b[39;00m\u001b[38;5;21;01m.\u001b[39;00m\u001b[38;5;21;01mkeras\u001b[39;00m \u001b[38;5;28;01mimport\u001b[39;00m models\n\u001b[1;32m     15\u001b[0m \u001b[38;5;28;01mfrom\u001b[39;00m \u001b[38;5;21;01mtensorflow\u001b[39;00m\u001b[38;5;21;01m.\u001b[39;00m\u001b[38;5;21;01mkeras\u001b[39;00m\u001b[38;5;21;01m.\u001b[39;00m\u001b[38;5;21;01mlayers\u001b[39;00m \u001b[38;5;28;01mimport\u001b[39;00m Dense, Dropout\n\u001b[1;32m     17\u001b[0m \u001b[38;5;66;03m# Desativa todos os avisos\u001b[39;00m\n",
      "\u001b[0;31mModuleNotFoundError\u001b[0m: No module named 'tensorflow.keras'"
     ]
    }
   ],
   "source": [
    "# Configurando o modo de exibição do pandas\n",
    "import pandas as pd\n",
    "pd.options.display.float_format = \"{:.4f}\".format\n",
    "\n",
    "import numpy as np\n",
    "from matplotlib import pyplot as plt\n",
    "import seaborn as sns\n",
    "\n",
    "from sklearn.model_selection import train_test_split\n",
    "from sklearn.preprocessing import StandardScaler\n",
    "\n",
    "import tensorflow as tf\n",
    "from tensorflow import keras \n",
    "from tensorflow.keras import models\n",
    "from tensorflow.keras.layers import Dense, Dropout\n",
    "\n",
    "# Desativa todos os avisos\n",
    "import warnings\n",
    "warnings.filterwarnings(\"ignore\")"
   ]
  },
  {
   "cell_type": "markdown",
   "metadata": {},
   "source": [
    "# Coleta dos Dados"
   ]
  },
  {
   "cell_type": "code",
   "execution_count": 2,
   "metadata": {},
   "outputs": [],
   "source": [
    "df = pd.read_csv(\"https://raw.githubusercontent.com/gabrieldadcarvalho/neural_network/main/projeto/insurance.csv\")\n",
    "\n",
    "X = df.iloc[:, :-1]\n",
    "y = df.iloc[:, -1]"
   ]
  },
  {
   "cell_type": "markdown",
   "metadata": {},
   "source": [
    "# Exploração dos Dados"
   ]
  },
  {
   "cell_type": "markdown",
   "metadata": {},
   "source": [
    "A análise exploratória foi essencial para entender os padrões de custo de seguro entre diferentes perfis de\n",
    "indivíduos, antes de ajustar qualquer modelo. Este processo permitiu identificar grupos com custos de\n",
    "seguro elevados ou baixos, oferecendo insights valiosos sobre os fatores que influenciam essas despesas.\n",
    "Além disso, a análise ajudou a investigar a correlação entre variáveis, facilitando a aplicação de trans-\n",
    "formações apropriadas nos dados para melhorar o ajuste do modelo de regressão que será desenvolvido\n",
    "posteriormente."
   ]
  },
  {
   "cell_type": "markdown",
   "metadata": {},
   "source": [
    "## Variáveis Explicativas\n",
    "Vamos realizar uma análise exploratória das variáveis explicativas do conjunto de dados. Abaixo estão as estatísticas descritivas e visualizações para cada variável."
   ]
  },
  {
   "cell_type": "markdown",
   "metadata": {},
   "source": [
    "### Teste T\n",
    "\n"
   ]
  },
  {
   "cell_type": "code",
   "execution_count": 3,
   "metadata": {},
   "outputs": [
    {
     "name": "stdout",
     "output_type": "stream",
     "text": [
      "t-statistic: -0.7624734701767805\n"
     ]
    },
    {
     "data": {
      "text/plain": [
       "1.9617412190546957"
      ]
     },
     "execution_count": 3,
     "metadata": {},
     "output_type": "execute_result"
    }
   ],
   "source": [
    "idade_m = X[X['sex'] == 'male']['age']\n",
    "idade_f = X[X['sex'] == 'female']['age']\n",
    "t = (idade_m.mean() - idade_f.mean()) / np.sqrt((idade_m.var(ddof=1)/len(idade_m) + idade_f.var(ddof=1) / len(idade_f)))\n",
    "print(f\"t-statistic: {t}\")\n",
    "import scipy.stats as stats\n",
    "\n",
    "t_crit = stats.t.ppf(0.975, len(idade_m)+len(idade_f)-2)\n",
    "t_crit"
   ]
  },
  {
   "cell_type": "code",
   "execution_count": 4,
   "metadata": {},
   "outputs": [
    {
     "data": {
      "text/plain": [
       "1.9617412190546957"
      ]
     },
     "execution_count": 4,
     "metadata": {},
     "output_type": "execute_result"
    }
   ],
   "source": [
    "import scipy.stats as stats\n",
    "\n",
    "t_crit = stats.t.ppf(0.975, len(idade_m)+len(idade_f)-2)\n",
    "t_crit"
   ]
  },
  {
   "cell_type": "code",
   "execution_count": 5,
   "metadata": {},
   "outputs": [
    {
     "name": "stdout",
     "output_type": "stream",
     "text": [
      "t-statistic: 1.697027933124022\n"
     ]
    }
   ],
   "source": [
    "imc_m = X[X['sex'] == 'male']['imc']\n",
    "imc_f = X[X['sex'] == 'female']['imc']\n",
    "t = (imc_m.mean() - imc_f.mean()) / np.sqrt((imc_m.var(ddof=1)/len(imc_m) + imc_f.var(ddof=1) / len(imc_f)))\n",
    "print(f\"t-statistic: {t}\")"
   ]
  },
  {
   "cell_type": "code",
   "execution_count": 6,
   "metadata": {},
   "outputs": [
    {
     "name": "stdout",
     "output_type": "stream",
     "text": [
      "t-statistic: -0.9209603068505062\n"
     ]
    }
   ],
   "source": [
    "idade_s_y = X[X['smoke'] == 'yes']['age']\n",
    "idade_s_n = X[X['smoke'] == 'no']['age']\n",
    "t = (idade_s_y.mean() - idade_s_n.mean()) / np.sqrt((idade_s_y.var(ddof=1)/len(idade_s_y) + idade_s_n.var(ddof=1) / len(idade_s_n)))\n",
    "print(f\"t-statistic: {t}\")"
   ]
  },
  {
   "cell_type": "code",
   "execution_count": 7,
   "metadata": {},
   "outputs": [
    {
     "name": "stdout",
     "output_type": "stream",
     "text": [
      "t-statistic: 0.1335212194724234\n"
     ]
    }
   ],
   "source": [
    "imc_s_y = X[X['smoke'] == 'yes']['imc']\n",
    "imc_s_n = X[X['smoke'] == 'no']['imc']\n",
    "t = (imc_s_y.mean() - imc_s_n.mean()) / np.sqrt((imc_s_y.var(ddof=1)/len(imc_s_y) + imc_s_n.var(ddof=1) / len(imc_s_n)))\n",
    "print(f\"t-statistic: {t}\")"
   ]
  },
  {
   "cell_type": "markdown",
   "metadata": {},
   "source": [
    "### Teste ANOVA"
   ]
  },
  {
   "cell_type": "code",
   "execution_count": 8,
   "metadata": {},
   "outputs": [
    {
     "name": "stdout",
     "output_type": "stream",
     "text": [
      "Estatística F: 0.07978158162436415\n",
      "Valor Crítico F: 2.611573218649548\n",
      "Não rejeitamos a hipótese nula.\n"
     ]
    }
   ],
   "source": [
    "from scipy.stats import f\n",
    "age_se = np.array(X[X['region'] == 'southeast']['age'])\n",
    "age_sw = np.array(X[X['region'] == 'southwest']['age'])\n",
    "age_ne = np.array(X[X['region'] == 'northwest']['age'])\n",
    "age_bw = np.array(X[X['region'] == 'northeast']['age'])\n",
    "\n",
    "mean_se = np.mean(age_se)\n",
    "mean_sw = np.mean(age_sw)\n",
    "mean_ne = np.mean(age_ne)\n",
    "mean_bw = np.mean(age_bw)\n",
    "\n",
    "all_a_r = np.concatenate([age_se, age_sw, age_ne, age_bw])\n",
    "mean_all = np.mean(all_a_r)\n",
    "\n",
    "k = 4\n",
    "N = len(all_a_r)\n",
    "\n",
    "\n",
    "QT = np.sum((all_a_r - mean_all) ** 2)\n",
    "\n",
    "QG = len(age_se) * (mean_se - mean_all) ** 2 + \\\n",
    "     len(age_sw) * (mean_sw - mean_all) ** 2 + \\\n",
    "     len(age_ne) * (mean_ne - mean_all) ** 2 + \\\n",
    "     len(age_bw) * (mean_bw - mean_all) ** 2\n",
    "\n",
    "QD = np.sum((age_se - mean_se) ** 2) + \\\n",
    "     np.sum((age_sw - mean_sw) ** 2) + \\\n",
    "     np.sum((age_ne - mean_ne) ** 2) + \\\n",
    "     np.sum((age_bw - mean_bw) ** 2)\n",
    "\n",
    "df_between = k - 1\n",
    "df_within = N - k\n",
    "\n",
    "# Quadrado Médio Entre Grupos\n",
    "MS_between = QG / df_between\n",
    "\n",
    "# Quadrado Médio Dentro dos Grupos\n",
    "MS_within = QD / df_within\n",
    "\n",
    "F = MS_between / MS_within\n",
    "\n",
    "alpha = 0.05\n",
    "F_crit = f.ppf(1 - alpha, df_between, df_within)\n",
    "\n",
    "print(f\"Estatística F: {F}\")\n",
    "print(f\"Valor Crítico F: {F_crit}\")\n",
    "\n",
    "if F > F_crit:\n",
    "    print(\"Rejeitamos a hipótese nula.\")\n",
    "else:\n",
    "    print(\"Não rejeitamos a hipótese nula.\")"
   ]
  },
  {
   "cell_type": "code",
   "execution_count": 9,
   "metadata": {},
   "outputs": [
    {
     "name": "stdout",
     "output_type": "stream",
     "text": [
      "Estatística F: 1.497717337339237\n",
      "Valor Crítico F: 2.220817484845099\n",
      "Não rejeitamos a hipótese nula.\n"
     ]
    }
   ],
   "source": [
    "age_c0 = np.array(X[X['children'] == 0]['age'])\n",
    "age_c1 = np.array(X[X['children'] == 1]['age'])\n",
    "age_c2 = np.array(X[X['children'] == 2]['age'])\n",
    "age_c3 = np.array(X[X['children'] == 3]['age'])\n",
    "age_c4 = np.array(X[X['children'] == 4]['age'])\n",
    "age_c5 = np.array(X[X['children'] ==  5]['age'])\n",
    "\n",
    "mean_c0 = np.mean(age_c0)\n",
    "mean_c1 = np.mean(age_c1)\n",
    "mean_c2 = np.mean(age_c2)\n",
    "mean_c3 = np.mean(age_c3)\n",
    "mean_c4 = np.mean(age_c4)\n",
    "mean_c5 = np.mean(age_c5)\n",
    "\n",
    "all_a_c = np.concatenate([age_c0, age_c1, age_c2, age_c3, age_c4, age_c5])\n",
    "mean_all = np.mean(all_a_c)\n",
    "\n",
    "k = 6\n",
    "N = len(all_a_c)\n",
    "\n",
    "\n",
    "QG = len(age_c0) * (mean_c0 - mean_all) ** 2 + \\\n",
    "     len(age_c1) * (mean_c1 - mean_all) ** 2 + \\\n",
    "     len(age_c2) * (mean_c2 - mean_all) ** 2 + \\\n",
    "     len(age_c3) * (mean_c3 - mean_all) ** 2 + \\\n",
    "     len(age_c4) * (mean_c4 - mean_all) ** 2 + \\\n",
    "     len(age_c5) * (mean_c5 - mean_all) ** 2\n",
    "\n",
    "QD = np.sum((age_c0 - mean_c0) ** 2) + \\\n",
    "     np.sum((age_c1 - mean_c1) ** 2) + \\\n",
    "     np.sum((age_c2 - mean_c2) ** 2) + \\\n",
    "     np.sum((age_c3 - mean_c3) ** 2) + \\\n",
    "     np.sum((age_c4 - mean_c4) ** 2) + \\\n",
    "     np.sum((age_c5 - mean_c5) ** 2)\n",
    "\n",
    "\n",
    "df_between = k - 1\n",
    "df_within = N - k\n",
    "\n",
    "# Quadrado Médio Entre Grupos\n",
    "MS_between = QG / df_between\n",
    "\n",
    "# Quadrado Médio Dentro dos Grupos\n",
    "MS_within = QD / df_within\n",
    "\n",
    "F = MS_between / MS_within\n",
    "\n",
    "alpha = 0.05\n",
    "F_crit = f.ppf(1 - alpha, df_between, df_within)\n",
    "\n",
    "print(f\"Estatística F: {F}\")\n",
    "print(f\"Valor Crítico F: {F_crit}\")\n",
    "\n",
    "if F > F_crit:\n",
    "    print(\"Rejeitamos a hipótese nula.\")\n",
    "else:\n",
    "    print(\"Não rejeitamos a hipótese nula.\")"
   ]
  },
  {
   "cell_type": "code",
   "execution_count": 10,
   "metadata": {},
   "outputs": [
    {
     "name": "stdout",
     "output_type": "stream",
     "text": [
      "Estatística F: 39.49505720170287\n",
      "Valor Crítico F: 2.611573218649548\n",
      "Rejeitamos a hipótese nula.\n"
     ]
    }
   ],
   "source": [
    "# Dados\n",
    "imc_se = np.array(X[X['region'] == 'southeast']['imc'])\n",
    "imc_sw = np.array(X[X['region'] == 'southwest']['imc'])\n",
    "imc_ne = np.array(X[X['region'] == 'northwest']['imc'])\n",
    "imc_bw = np.array(X[X['region'] == 'northeast']['imc'])\n",
    "\n",
    "# Cálculo das médias dos grupos\n",
    "mean_se = np.mean(imc_se)\n",
    "mean_sw = np.mean(imc_sw)\n",
    "mean_ne = np.mean(imc_ne)\n",
    "mean_bw = np.mean(imc_bw)\n",
    "\n",
    "# Concatenação de todas as amostras para calcular a média global\n",
    "all_i_r = np.concatenate([imc_se, imc_sw, imc_ne, imc_bw])\n",
    "mean_all = np.mean(all_i_r)\n",
    "\n",
    "# Número de grupos e total de amostras\n",
    "k = 4\n",
    "N = len(all_i_r)\n",
    "\n",
    "# Quadrado Total e Quadrado Dentro dos Grupos\n",
    "QG = len(imc_se) * (mean_se - mean_all) ** 2 + \\\n",
    "     len(imc_sw) * (mean_sw - mean_all) ** 2 + \\\n",
    "     len(imc_ne) * (mean_ne - mean_all) ** 2 + \\\n",
    "     len(imc_bw) * (mean_bw - mean_all) ** 2\n",
    "\n",
    "QD = np.sum((imc_se - mean_se) ** 2) + \\\n",
    "     np.sum((imc_sw - mean_sw) ** 2) + \\\n",
    "     np.sum((imc_ne - mean_ne) ** 2) + \\\n",
    "     np.sum((imc_bw - mean_bw) ** 2)\n",
    "\n",
    "# Graus de Liberdade\n",
    "df_between = k - 1\n",
    "df_within = N - k\n",
    "\n",
    "# Quadrado Médio Entre Grupos e Dentro dos Grupos\n",
    "MS_between = QG / df_between\n",
    "MS_within = QD / df_within\n",
    "\n",
    "# Estatística F\n",
    "F = MS_between / MS_within\n",
    "\n",
    "# Valor Crítico F\n",
    "alpha = 0.05\n",
    "F_crit = f.ppf(1 - alpha, df_between, df_within)\n",
    "\n",
    "# Resultados\n",
    "print(f\"Estatística F: {F}\")\n",
    "print(f\"Valor Crítico F: {F_crit}\")\n",
    "\n",
    "if F > F_crit:\n",
    "    print(\"Rejeitamos a hipótese nula.\")\n",
    "else:\n",
    "    print(\"Não rejeitamos a hipótese nula.\")"
   ]
  },
  {
   "cell_type": "code",
   "execution_count": 11,
   "metadata": {},
   "outputs": [
    {
     "name": "stdout",
     "output_type": "stream",
     "text": [
      "3\n",
      "1334\n"
     ]
    }
   ],
   "source": [
    "print(df_between)\n",
    "print(df_within)"
   ]
  },
  {
   "cell_type": "code",
   "execution_count": 12,
   "metadata": {},
   "outputs": [
    {
     "name": "stdout",
     "output_type": "stream",
     "text": [
      "Estatística F: 39.49505720170287\n",
      "Valor Crítico F: 2.611573218649548\n",
      "Rejeitamos a hipótese nula.\n"
     ]
    }
   ],
   "source": [
    "# Dados\n",
    "imc_se = np.array(X[X['region'] == 'southeast']['imc'])\n",
    "imc_sw = np.array(X[X['region'] == 'southwest']['imc'])\n",
    "imc_ne = np.array(X[X['region'] == 'northwest']['imc'])\n",
    "imc_bw = np.array(X[X['region'] == 'northeast']['imc'])\n",
    "\n",
    "# Cálculo das médias dos grupos\n",
    "mean_se = np.mean(imc_se)\n",
    "mean_sw = np.mean(imc_sw)\n",
    "mean_ne = np.mean(imc_ne)\n",
    "mean_bw = np.mean(imc_bw)\n",
    "\n",
    "# Concatenação de todas as amostras para calcular a média global\n",
    "all_i_r = np.concatenate([imc_se, imc_sw, imc_ne, imc_bw])\n",
    "mean_all = np.mean(all_i_r)\n",
    "\n",
    "# Número de grupos e total de amostras\n",
    "k = 4\n",
    "N = len(all_i_r)\n",
    "\n",
    "# Quadrado Total e Quadrado Dentro dos Grupos\n",
    "QG = len(imc_se) * (mean_se - mean_all) ** 2 + \\\n",
    "     len(imc_sw) * (mean_sw - mean_all) ** 2 + \\\n",
    "     len(imc_ne) * (mean_ne - mean_all) ** 2 + \\\n",
    "     len(imc_bw) * (mean_bw - mean_all) ** 2\n",
    "\n",
    "QD = np.sum((imc_se - mean_se) ** 2) + \\\n",
    "     np.sum((imc_sw - mean_sw) ** 2) + \\\n",
    "     np.sum((imc_ne - mean_ne) ** 2) + \\\n",
    "     np.sum((imc_bw - mean_bw) ** 2)\n",
    "\n",
    "# Graus de Liberdade\n",
    "df_between = k - 1\n",
    "df_within = N - k\n",
    "\n",
    "# Quadrado Médio Entre Grupos e Dentro dos Grupos\n",
    "MS_between = QG / df_between\n",
    "MS_within = QD / df_within\n",
    "\n",
    "# Estatística F\n",
    "F = MS_between / MS_within\n",
    "\n",
    "# Valor Crítico F\n",
    "alpha = 0.05\n",
    "F_crit = f.ppf(1 - alpha, df_between, df_within)\n",
    "\n",
    "# Resultados\n",
    "print(f\"Estatística F: {F}\")\n",
    "print(f\"Valor Crítico F: {F_crit}\")\n",
    "\n",
    "if F > F_crit:\n",
    "    print(\"Rejeitamos a hipótese nula.\")\n",
    "else:\n",
    "    print(\"Não rejeitamos a hipótese nula.\")"
   ]
  },
  {
   "cell_type": "code",
   "execution_count": 13,
   "metadata": {},
   "outputs": [
    {
     "name": "stdout",
     "output_type": "stream",
     "text": [
      "Estatística F: 0.7174932934640633\n",
      "Valor Crítico F: 2.611573218649548\n",
      "Não rejeitamos a hipótese nula.\n"
     ]
    }
   ],
   "source": [
    "from scipy.stats import f\n",
    "children_se = np.array(X[X['region'] == 'southeast']['children'])\n",
    "children_sw = np.array(X[X['region'] == 'southwest']['children'])\n",
    "children_ne = np.array(X[X['region'] == 'northwest']['children'])\n",
    "children_bw = np.array(X[X['region'] == 'northeast']['children'])\n",
    "\n",
    "mean_se = np.mean(children_se)\n",
    "mean_sw = np.mean(children_sw)\n",
    "mean_ne = np.mean(children_ne)\n",
    "mean_bw = np.mean(children_bw)\n",
    "\n",
    "all_c_r = np.concatenate([children_se, children_sw, children_ne, children_bw])\n",
    "mean_all = np.mean(all_c_r)\n",
    "\n",
    "k = 4\n",
    "N = len(all_c_r)\n",
    "\n",
    "\n",
    "QT = np.sum((all_c_r - mean_all) ** 2)\n",
    "\n",
    "QG = len(children_se) * (mean_se - mean_all) ** 2 + \\\n",
    "     len(children_sw) * (mean_sw - mean_all) ** 2 + \\\n",
    "     len(children_ne) * (mean_ne - mean_all) ** 2 + \\\n",
    "     len(children_bw) * (mean_bw - mean_all) ** 2\n",
    "\n",
    "QD = np.sum((children_se - mean_se) ** 2) + \\\n",
    "     np.sum((children_sw - mean_sw) ** 2) + \\\n",
    "     np.sum((children_ne - mean_ne) ** 2) + \\\n",
    "     np.sum((children_bw - mean_bw) ** 2)\n",
    "\n",
    "df_between = k - 1\n",
    "df_within = N - k\n",
    "\n",
    "# Quadrado Médio Entre Grupos\n",
    "MS_between = QG / df_between\n",
    "\n",
    "# Quadrado Médio Dentro dos Grupos\n",
    "MS_within = QD / df_within\n",
    "\n",
    "F = MS_between / MS_within\n",
    "\n",
    "alpha = 0.05\n",
    "F_crit = f.ppf(1 - alpha, df_between, df_within)\n",
    "\n",
    "print(f\"Estatística F: {F}\")\n",
    "print(f\"Valor Crítico F: {F_crit}\")\n",
    "\n",
    "if F > F_crit:\n",
    "    print(\"Rejeitamos a hipótese nula.\")\n",
    "else:\n",
    "    print(\"Não rejeitamos a hipótese nula.\")"
   ]
  },
  {
   "cell_type": "code",
   "execution_count": 14,
   "metadata": {},
   "outputs": [
    {
     "name": "stdout",
     "output_type": "stream",
     "text": [
      "3\n",
      "1334\n"
     ]
    }
   ],
   "source": [
    "print(df_between)\n",
    "print(df_within)"
   ]
  },
  {
   "cell_type": "code",
   "execution_count": 15,
   "metadata": {},
   "outputs": [
    {
     "name": "stdout",
     "output_type": "stream",
     "text": [
      "t-statistic: 2.1008878232359565\n"
     ]
    },
    {
     "data": {
      "text/plain": [
       "1.9617412190546957"
      ]
     },
     "execution_count": 15,
     "metadata": {},
     "output_type": "execute_result"
    }
   ],
   "source": [
    "custo_m = y[X['sex'] == 'male']\n",
    "custo_f = y[X['sex'] == 'female']\n",
    "t = (custo_m.mean() - custo_f.mean()) / np.sqrt((custo_m.var(ddof=1)/len(custo_m) + custo_f.var(ddof=1) / len(custo_f)))\n",
    "print(f\"t-statistic: {t}\")\n",
    "import scipy.stats as stats\n",
    "\n",
    "t_crit = stats.t.ppf(0.975, len(custo_m)+len(custo_f)-2)\n",
    "t_crit"
   ]
  },
  {
   "cell_type": "markdown",
   "metadata": {},
   "source": [
    "### IMC - Região"
   ]
  },
  {
   "cell_type": "code",
   "execution_count": 16,
   "metadata": {},
   "outputs": [
    {
     "data": {
      "image/png": "[encoded data removed]",
      "text/plain": [
       "<Figure size 1200x600 with 1 Axes>"
      ]
     },
     "metadata": {},
     "output_type": "display_data"
    }
   ],
   "source": [
    "plt.figure(figsize=(12, 6))\n",
    "plt.boxplot([X[X['region'] == region]['imc'] for region in X['region'].unique()],\n",
    "            labels=X['region'].unique())\n",
    "plt.xlabel('Região')\n",
    "plt.ylabel('IMC')\n",
    "plt.title('Boxplot do IMC por Região')\n",
    "plt.xticks(rotation=45)\n",
    "plt.show()"
   ]
  },
  {
   "cell_type": "markdown",
   "metadata": {},
   "source": [
    "## Variável Resposta"
   ]
  },
  {
   "cell_type": "markdown",
   "metadata": {},
   "source": [
    "## Teste T"
   ]
  },
  {
   "cell_type": "code",
   "execution_count": 17,
   "metadata": {},
   "outputs": [
    {
     "name": "stdout",
     "output_type": "stream",
     "text": [
      "t-statistic: 2.1008878232359565\n"
     ]
    },
    {
     "data": {
      "text/plain": [
       "1.9617412190546957"
      ]
     },
     "execution_count": 17,
     "metadata": {},
     "output_type": "execute_result"
    }
   ],
   "source": [
    "custo_m = y[X['sex'] == 'male']\n",
    "custo_f = y[X['sex'] == 'female']\n",
    "t = (custo_m.mean() - custo_f.mean()) / np.sqrt((custo_m.var(ddof=1)/len(custo_m) + custo_f.var(ddof=1) / len(custo_f)))\n",
    "print(f\"t-statistic: {t}\")\n",
    "import scipy.stats as stats\n",
    "\n",
    "t_crit = stats.t.ppf(0.975, len(custo_m)+len(custo_f)-2)\n",
    "t_crit"
   ]
  },
  {
   "cell_type": "code",
   "execution_count": 18,
   "metadata": {},
   "outputs": [
    {
     "name": "stdout",
     "output_type": "stream",
     "text": [
      "t-statistic: 32.751887766341824\n"
     ]
    },
    {
     "data": {
      "text/plain": [
       "1.9617412190546957"
      ]
     },
     "execution_count": 18,
     "metadata": {},
     "output_type": "execute_result"
    }
   ],
   "source": [
    "custo_s_y = y[X['smoke'] == 'yes']\n",
    "custo_s_n = y[X['smoke'] == 'no']\n",
    "t = (custo_s_y.mean() - custo_s_n.mean()) / np.sqrt((custo_s_y.var(ddof=1)/len(custo_s_y) + custo_s_n.var(ddof=1) / len(custo_s_n)))\n",
    "print(f\"t-statistic: {t}\")\n",
    "import scipy.stats as stats\n",
    "\n",
    "t_crit = stats.t.ppf(0.975, len(custo_s_y)+len(custo_s_n)-2)\n",
    "t_crit"
   ]
  },
  {
   "cell_type": "code",
   "execution_count": 19,
   "metadata": {},
   "outputs": [
    {
     "data": {
      "image/png": "[encoded data removed]",
      "text/plain": [
       "<Figure size 1200x600 with 1 Axes>"
      ]
     },
     "metadata": {},
     "output_type": "display_data"
    }
   ],
   "source": [
    "plt.figure(figsize=(12, 6))\n",
    "plt.boxplot([y[X['sex'] == region]for region in X['sex'].unique()],\n",
    "            labels=X['sex'].unique())\n",
    "plt.xlabel('Região')\n",
    "plt.ylabel('IMC')\n",
    "plt.title('Boxplot do IMC por Região')\n",
    "plt.xticks(rotation=45)\n",
    "plt.show()"
   ]
  },
  {
   "cell_type": "code",
   "execution_count": 20,
   "metadata": {},
   "outputs": [
    {
     "data": {
      "image/png": "[encoded data removed]",
      "text/plain": [
       "<Figure size 1200x600 with 1 Axes>"
      ]
     },
     "metadata": {},
     "output_type": "display_data"
    }
   ],
   "source": [
    "plt.figure(figsize=(12, 6))\n",
    "plt.boxplot([y[X['smoke'] == region]for region in X['smoke'].unique()],\n",
    "            labels=X['smoke'].unique())\n",
    "plt.xlabel('Região')\n",
    "plt.ylabel('IMC')\n",
    "plt.title('Boxplot do IMC por Região')\n",
    "plt.xticks(rotation=45)\n",
    "plt.show()"
   ]
  },
  {
   "cell_type": "markdown",
   "metadata": {},
   "source": [
    "### Correlação de Person"
   ]
  },
  {
   "cell_type": "code",
   "execution_count": 21,
   "metadata": {},
   "outputs": [
    {
     "data": {
      "text/plain": [
       "age   0.2990\n",
       "imc   0.1983\n",
       "dtype: float64"
      ]
     },
     "execution_count": 21,
     "metadata": {},
     "output_type": "execute_result"
    }
   ],
   "source": [
    "correlation = X[['age', 'imc']].corrwith(y)\n",
    "correlation"
   ]
  },
  {
   "cell_type": "markdown",
   "metadata": {},
   "source": [
    "### Teste ANOVA"
   ]
  },
  {
   "cell_type": "code",
   "execution_count": 22,
   "metadata": {},
   "outputs": [
    {
     "name": "stdout",
     "output_type": "stream",
     "text": [
      "Estatística F: 2.969626693589115\n",
      "Valor Crítico F: 2.611573218649548\n",
      "Rejeitamos a hipótese nula.\n"
     ]
    }
   ],
   "source": [
    "# Dados\n",
    "y_se = np.array(y[X['region'] == 'southeast'])\n",
    "y_sw = np.array(y[X['region'] == 'southwest'])\n",
    "y_ne = np.array(y[X['region'] == 'northwest'])\n",
    "y_bw = np.array(y[X['region'] == 'northeast'])\n",
    "\n",
    "# Cálculo das médias dos grupos\n",
    "mean_se = np.mean(y_se)\n",
    "mean_sw = np.mean(y_sw)\n",
    "mean_ne = np.mean(y_ne)\n",
    "mean_bw = np.mean(y_bw)\n",
    "\n",
    "# Concatenação de todas as amostras para calcular a média global\n",
    "all_i_r = np.concatenate([y_se, y_sw, y_ne, y_bw])\n",
    "mean_all = np.mean(all_i_r)\n",
    "\n",
    "# Número de grupos e total de amostras\n",
    "k = 4\n",
    "N = len(all_i_r)\n",
    "\n",
    "# Quadrado Total e Quadrado Dentro dos Grupos\n",
    "QG = len(y_se) * (mean_se - mean_all) ** 2 + \\\n",
    "     len(y_sw) * (mean_sw - mean_all) ** 2 + \\\n",
    "     len(y_ne) * (mean_ne - mean_all) ** 2 + \\\n",
    "     len(y_bw) * (mean_bw - mean_all) ** 2\n",
    "\n",
    "QD = np.sum((y_se - mean_se) ** 2) + \\\n",
    "     np.sum((y_sw - mean_sw) ** 2) + \\\n",
    "     np.sum((y_ne - mean_ne) ** 2) + \\\n",
    "     np.sum((y_bw - mean_bw) ** 2)\n",
    "\n",
    "# Graus de Liberdade\n",
    "df_between = k - 1\n",
    "df_within = N - k\n",
    "\n",
    "# Quadrado Médio Entre Grupos e Dentro dos Grupos\n",
    "MS_between = QG / df_between\n",
    "MS_within = QD / df_within\n",
    "\n",
    "# Estatística F\n",
    "F = MS_between / MS_within\n",
    "\n",
    "# Valor Crítico F\n",
    "alpha = 0.05\n",
    "F_crit = f.ppf(1 - alpha, df_between, df_within)\n",
    "\n",
    "# Resultados\n",
    "print(f\"Estatística F: {F}\")\n",
    "print(f\"Valor Crítico F: {F_crit}\")\n",
    "\n",
    "if F > F_crit:\n",
    "    print(\"Rejeitamos a hipótese nula.\")\n",
    "else:\n",
    "    print(\"Não rejeitamos a hipótese nula.\")"
   ]
  },
  {
   "cell_type": "code",
   "execution_count": 23,
   "metadata": {},
   "outputs": [
    {
     "name": "stdout",
     "output_type": "stream",
     "text": [
      "Estatística F: 1.779104687793419\n",
      "Valor Crítico F: 2.220817484845099\n",
      "Não rejeitamos a hipótese nula.\n"
     ]
    }
   ],
   "source": [
    "# Dados\n",
    "y_c0 = np.array(y[X['children'] == 0])\n",
    "y_c1 = np.array(y[X['children'] == 1])\n",
    "y_c2 = np.array(y[X['children'] == 2])\n",
    "y_c3 = np.array(y[X['children'] == 3])\n",
    "y_c4 = np.array(y[X['children'] == 4])\n",
    "y_c5 = np.array(y[X['children'] ==  5])\n",
    "\n",
    "# Cálculo das médias dos grupos\n",
    "mean_c0 = np.mean(y_c0)\n",
    "mean_c1 = np.mean(y_c1)\n",
    "mean_c2 = np.mean(y_c2)\n",
    "mean_c3 = np.mean(y_c3)\n",
    "mean_c4 = np.mean(y_c4)\n",
    "mean_c5 = np.mean(y_c5)\n",
    "\n",
    "# Concatenação de todas as amostras para calcular a média global\n",
    "all_i_r = np.concatenate([y_c0, y_c1, y_c2, y_c3, y_c4, y_c5])\n",
    "mean_all = np.mean(all_i_r)\n",
    "\n",
    "# Número de grupos e total de amostras\n",
    "k = 6\n",
    "N = len(all_i_r)\n",
    "\n",
    "# Quadrado Total e Quadrado Dentro dos Grupos\n",
    "QG = len(y_se) * (mean_se - mean_all) ** 2 + \\\n",
    "     len(y_sw) * (mean_sw - mean_all) ** 2 + \\\n",
    "     len(y_ne) * (mean_ne - mean_all) ** 2 + \\\n",
    "     len(y_bw) * (mean_bw - mean_all) ** 2\n",
    "\n",
    "QD = np.sum((y_se - mean_se) ** 2) + \\\n",
    "     np.sum((y_sw - mean_sw) ** 2) + \\\n",
    "     np.sum((y_ne - mean_ne) ** 2) + \\\n",
    "     np.sum((y_bw - mean_bw) ** 2)\n",
    "\n",
    "# Graus de Liberdade\n",
    "df_between = k - 1\n",
    "df_within = N - k\n",
    "\n",
    "# Quadrado Médio Entre Grupos e Dentro dos Grupos\n",
    "MS_between = QG / df_between\n",
    "MS_within = QD / df_within\n",
    "\n",
    "# Estatística F\n",
    "F = MS_between / MS_within\n",
    "\n",
    "# Valor Crítico F\n",
    "alpha = 0.05\n",
    "F_crit = f.ppf(1 - alpha, df_between, df_within)\n",
    "\n",
    "# Resultados\n",
    "print(f\"Estatística F: {F}\")\n",
    "print(f\"Valor Crítico F: {F_crit}\")\n",
    "\n",
    "if F > F_crit:\n",
    "    print(\"Rejeitamos a hipótese nula.\")\n",
    "else:\n",
    "    print(\"Não rejeitamos a hipótese nula.\")"
   ]
  },
  {
   "cell_type": "code",
   "execution_count": 24,
   "metadata": {},
   "outputs": [
    {
     "data": {
      "image/png": "[encoded data removed]",
      "text/plain": [
       "<Figure size 1200x600 with 1 Axes>"
      ]
     },
     "metadata": {},
     "output_type": "display_data"
    }
   ],
   "source": [
    "plt.figure(figsize=(12, 6))\n",
    "plt.boxplot([y[X['region'] == region]for region in X['region'].unique()],\n",
    "            labels=X['region'].unique())\n",
    "plt.xlabel('Região')\n",
    "plt.ylabel('children')\n",
    "plt.title('Boxplot do IMC por Região')\n",
    "plt.xticks(rotation=45)\n",
    "plt.show()"
   ]
  },
  {
   "cell_type": "markdown",
   "metadata": {},
   "source": [
    "## Variáveis Dummy"
   ]
  },
  {
   "cell_type": "code",
   "execution_count": 25,
   "metadata": {},
   "outputs": [],
   "source": [
    "X_t = pd.get_dummies(X, columns=['sex', 'smoke', 'region', 'children'])\n",
    "X_t['age'] = (X_t['age'] - X_t['age'].mean()) / X_t['age'].std()\n",
    "X_t['imc'] = (X_t['imc'] - X_t['imc'].mean()) / X_t['imc'].std()\n",
    "X_train, X_test, y_train, y_test = train_test_split(X_t, y, test_size=0.2, random_state=42)"
   ]
  },
  {
   "cell_type": "code",
   "execution_count": 26,
   "metadata": {},
   "outputs": [],
   "source": [
    "# Métrica RMSE\n",
    "def rmse(y_true, y_pred):\n",
    "  return tf.sqrt(tf.reduce_mean(tf.square(y_pred - y_true)))"
   ]
  },
  {
   "cell_type": "code",
   "execution_count": 27,
   "metadata": {},
   "outputs": [],
   "source": [
    "def modelo_r():\n",
    "    modelo = models.Sequential()\n",
    "    modelo.add(Dense(128, activation=\"relu\", input_shape=(X_t.shape[1],)))\n",
    "    modelo.add(Dropout(0.2))\n",
    "    modelo.add(Dense(128, activation=\"relu\"))\n",
    "    modelo.add(Dropout(0.2))\n",
    "    modelo.add(Dense(128, activation=\"relu\"))\n",
    "    modelo.add(Dropout(0.2))\n",
    "    modelo.add(Dense(1, activation = 'linear'))\n",
    "    modelo.compile(optimizer=\"adam\", loss=\"mse\", metrics=[rmse])\n",
    "\n",
    "    return modelo"
   ]
  },
  {
   "cell_type": "code",
   "execution_count": 28,
   "metadata": {},
   "outputs": [
    {
     "name": "stderr",
     "output_type": "stream",
     "text": [
      "WARNING: All log messages before absl::InitializeLog() is called are written to STDERR\n",
      "I0000 00:00:1727115916.412698   34420 cuda_executor.cc:1015] successful NUMA node read from SysFS had negative value (-1), but there must be at least one NUMA node, so returning NUMA node zero. See more at https://github.com/torvalds/linux/blob/v6.0/Documentation/ABI/testing/sysfs-bus-pci#L344-L355\n",
      "I0000 00:00:1727115916.473772   34420 cuda_executor.cc:1015] successful NUMA node read from SysFS had negative value (-1), but there must be at least one NUMA node, so returning NUMA node zero. See more at https://github.com/torvalds/linux/blob/v6.0/Documentation/ABI/testing/sysfs-bus-pci#L344-L355\n",
      "I0000 00:00:1727115916.473978   34420 cuda_executor.cc:1015] successful NUMA node read from SysFS had negative value (-1), but there must be at least one NUMA node, so returning NUMA node zero. See more at https://github.com/torvalds/linux/blob/v6.0/Documentation/ABI/testing/sysfs-bus-pci#L344-L355\n",
      "I0000 00:00:1727115916.474822   34420 cuda_executor.cc:1015] successful NUMA node read from SysFS had negative value (-1), but there must be at least one NUMA node, so returning NUMA node zero. See more at https://github.com/torvalds/linux/blob/v6.0/Documentation/ABI/testing/sysfs-bus-pci#L344-L355\n",
      "I0000 00:00:1727115916.475070   34420 cuda_executor.cc:1015] successful NUMA node read from SysFS had negative value (-1), but there must be at least one NUMA node, so returning NUMA node zero. See more at https://github.com/torvalds/linux/blob/v6.0/Documentation/ABI/testing/sysfs-bus-pci#L344-L355\n",
      "I0000 00:00:1727115916.475214   34420 cuda_executor.cc:1015] successful NUMA node read from SysFS had negative value (-1), but there must be at least one NUMA node, so returning NUMA node zero. See more at https://github.com/torvalds/linux/blob/v6.0/Documentation/ABI/testing/sysfs-bus-pci#L344-L355\n",
      "I0000 00:00:1727115916.528386   34420 cuda_executor.cc:1015] successful NUMA node read from SysFS had negative value (-1), but there must be at least one NUMA node, so returning NUMA node zero. See more at https://github.com/torvalds/linux/blob/v6.0/Documentation/ABI/testing/sysfs-bus-pci#L344-L355\n",
      "I0000 00:00:1727115916.528662   34420 cuda_executor.cc:1015] successful NUMA node read from SysFS had negative value (-1), but there must be at least one NUMA node, so returning NUMA node zero. See more at https://github.com/torvalds/linux/blob/v6.0/Documentation/ABI/testing/sysfs-bus-pci#L344-L355\n",
      "I0000 00:00:1727115916.528865   34420 cuda_executor.cc:1015] successful NUMA node read from SysFS had negative value (-1), but there must be at least one NUMA node, so returning NUMA node zero. See more at https://github.com/torvalds/linux/blob/v6.0/Documentation/ABI/testing/sysfs-bus-pci#L344-L355\n",
      "2024-09-23 15:25:16.529037: I tensorflow/core/common_runtime/gpu/gpu_device.cc:2021] Created device /job:localhost/replica:0/task:0/device:GPU:0 with 1413 MB memory:  -> device: 0, name: NVIDIA GeForce GTX 1050, pci bus id: 0000:01:00.0, compute capability: 6.1\n"
     ]
    }
   ],
   "source": [
    "modelo = modelo_r()"
   ]
  },
  {
   "cell_type": "code",
   "execution_count": 29,
   "metadata": {},
   "outputs": [
    {
     "ename": "AttributeError",
     "evalue": "module 'tensorflow.python.distribute.input_lib' has no attribute 'DistributedDatasetInterface'",
     "output_type": "error",
     "traceback": [
      "\u001b[0;31m---------------------------------------------------------------------------\u001b[0m",
      "\u001b[0;31mAttributeError\u001b[0m                            Traceback (most recent call last)",
      "Cell \u001b[0;32mIn[29], line 1\u001b[0m\n\u001b[0;32m----> 1\u001b[0m hist \u001b[38;5;241m=\u001b[39m \u001b[43mmodelo\u001b[49m\u001b[38;5;241;43m.\u001b[39;49m\u001b[43mfit\u001b[49m\u001b[43m(\u001b[49m\u001b[43mX_train\u001b[49m\u001b[43m,\u001b[49m\u001b[43m \u001b[49m\u001b[43my_train\u001b[49m\u001b[43m,\u001b[49m\u001b[43m \u001b[49m\u001b[43mvalidation_split\u001b[49m\u001b[38;5;241;43m=\u001b[39;49m\u001b[38;5;241;43m0.2\u001b[39;49m\u001b[43m,\u001b[49m\u001b[43m \u001b[49m\u001b[43mbatch_size\u001b[49m\u001b[38;5;241;43m=\u001b[39;49m\u001b[38;5;241;43m32\u001b[39;49m\u001b[43m)\u001b[49m\n",
      "File \u001b[0;32m~/miniconda3/envs/ml/lib/python3.12/site-packages/tensorflow/python/keras/engine/training.py:1137\u001b[0m, in \u001b[0;36mModel.fit\u001b[0;34m(self, x, y, batch_size, epochs, verbose, callbacks, validation_split, validation_data, shuffle, class_weight, sample_weight, initial_epoch, steps_per_epoch, validation_steps, validation_batch_size, validation_freq, max_queue_size, workers, use_multiprocessing)\u001b[0m\n\u001b[1;32m   1131\u001b[0m   \u001b[38;5;28mself\u001b[39m\u001b[38;5;241m.\u001b[39m_cluster_coordinator \u001b[38;5;241m=\u001b[39m cluster_coordinator\u001b[38;5;241m.\u001b[39mClusterCoordinator(\n\u001b[1;32m   1132\u001b[0m       \u001b[38;5;28mself\u001b[39m\u001b[38;5;241m.\u001b[39mdistribute_strategy)\n\u001b[1;32m   1134\u001b[0m \u001b[38;5;28;01mwith\u001b[39;00m \u001b[38;5;28mself\u001b[39m\u001b[38;5;241m.\u001b[39mdistribute_strategy\u001b[38;5;241m.\u001b[39mscope(), \\\n\u001b[1;32m   1135\u001b[0m      training_utils\u001b[38;5;241m.\u001b[39mRespectCompiledTrainableState(\u001b[38;5;28mself\u001b[39m):\n\u001b[1;32m   1136\u001b[0m   \u001b[38;5;66;03m# Creates a `tf.data.Dataset` and handles batch and epoch iteration.\u001b[39;00m\n\u001b[0;32m-> 1137\u001b[0m   data_handler \u001b[38;5;241m=\u001b[39m \u001b[43mdata_adapter\u001b[49m\u001b[38;5;241;43m.\u001b[39;49m\u001b[43mget_data_handler\u001b[49m\u001b[43m(\u001b[49m\n\u001b[1;32m   1138\u001b[0m \u001b[43m      \u001b[49m\u001b[43mx\u001b[49m\u001b[38;5;241;43m=\u001b[39;49m\u001b[43mx\u001b[49m\u001b[43m,\u001b[49m\n\u001b[1;32m   1139\u001b[0m \u001b[43m      \u001b[49m\u001b[43my\u001b[49m\u001b[38;5;241;43m=\u001b[39;49m\u001b[43my\u001b[49m\u001b[43m,\u001b[49m\n\u001b[1;32m   1140\u001b[0m \u001b[43m      \u001b[49m\u001b[43msample_weight\u001b[49m\u001b[38;5;241;43m=\u001b[39;49m\u001b[43msample_weight\u001b[49m\u001b[43m,\u001b[49m\n\u001b[1;32m   1141\u001b[0m \u001b[43m      \u001b[49m\u001b[43mbatch_size\u001b[49m\u001b[38;5;241;43m=\u001b[39;49m\u001b[43mbatch_size\u001b[49m\u001b[43m,\u001b[49m\n\u001b[1;32m   1142\u001b[0m \u001b[43m      \u001b[49m\u001b[43msteps_per_epoch\u001b[49m\u001b[38;5;241;43m=\u001b[39;49m\u001b[43msteps_per_epoch\u001b[49m\u001b[43m,\u001b[49m\n\u001b[1;32m   1143\u001b[0m \u001b[43m      \u001b[49m\u001b[43minitial_epoch\u001b[49m\u001b[38;5;241;43m=\u001b[39;49m\u001b[43minitial_epoch\u001b[49m\u001b[43m,\u001b[49m\n\u001b[1;32m   1144\u001b[0m \u001b[43m      \u001b[49m\u001b[43mepochs\u001b[49m\u001b[38;5;241;43m=\u001b[39;49m\u001b[43mepochs\u001b[49m\u001b[43m,\u001b[49m\n\u001b[1;32m   1145\u001b[0m \u001b[43m      \u001b[49m\u001b[43mshuffle\u001b[49m\u001b[38;5;241;43m=\u001b[39;49m\u001b[43mshuffle\u001b[49m\u001b[43m,\u001b[49m\n\u001b[1;32m   1146\u001b[0m \u001b[43m      \u001b[49m\u001b[43mclass_weight\u001b[49m\u001b[38;5;241;43m=\u001b[39;49m\u001b[43mclass_weight\u001b[49m\u001b[43m,\u001b[49m\n\u001b[1;32m   1147\u001b[0m \u001b[43m      \u001b[49m\u001b[43mmax_queue_size\u001b[49m\u001b[38;5;241;43m=\u001b[39;49m\u001b[43mmax_queue_size\u001b[49m\u001b[43m,\u001b[49m\n\u001b[1;32m   1148\u001b[0m \u001b[43m      \u001b[49m\u001b[43mworkers\u001b[49m\u001b[38;5;241;43m=\u001b[39;49m\u001b[43mworkers\u001b[49m\u001b[43m,\u001b[49m\n\u001b[1;32m   1149\u001b[0m \u001b[43m      \u001b[49m\u001b[43muse_multiprocessing\u001b[49m\u001b[38;5;241;43m=\u001b[39;49m\u001b[43muse_multiprocessing\u001b[49m\u001b[43m,\u001b[49m\n\u001b[1;32m   1150\u001b[0m \u001b[43m      \u001b[49m\u001b[43mmodel\u001b[49m\u001b[38;5;241;43m=\u001b[39;49m\u001b[38;5;28;43mself\u001b[39;49m\u001b[43m,\u001b[49m\n\u001b[1;32m   1151\u001b[0m \u001b[43m      \u001b[49m\u001b[43msteps_per_execution\u001b[49m\u001b[38;5;241;43m=\u001b[39;49m\u001b[38;5;28;43mself\u001b[39;49m\u001b[38;5;241;43m.\u001b[39;49m\u001b[43m_steps_per_execution\u001b[49m\u001b[43m)\u001b[49m\n\u001b[1;32m   1153\u001b[0m   \u001b[38;5;66;03m# Container that configures and calls `tf.keras.Callback`s.\u001b[39;00m\n\u001b[1;32m   1154\u001b[0m   \u001b[38;5;28;01mif\u001b[39;00m \u001b[38;5;129;01mnot\u001b[39;00m \u001b[38;5;28misinstance\u001b[39m(callbacks, callbacks_module\u001b[38;5;241m.\u001b[39mCallbackList):\n",
      "File \u001b[0;32m~/miniconda3/envs/ml/lib/python3.12/site-packages/tensorflow/python/keras/engine/data_adapter.py:1397\u001b[0m, in \u001b[0;36mget_data_handler\u001b[0;34m(*args, **kwargs)\u001b[0m\n\u001b[1;32m   1395\u001b[0m \u001b[38;5;28;01mif\u001b[39;00m \u001b[38;5;28mgetattr\u001b[39m(kwargs[\u001b[38;5;124m\"\u001b[39m\u001b[38;5;124mmodel\u001b[39m\u001b[38;5;124m\"\u001b[39m], \u001b[38;5;124m\"\u001b[39m\u001b[38;5;124m_cluster_coordinator\u001b[39m\u001b[38;5;124m\"\u001b[39m, \u001b[38;5;28;01mNone\u001b[39;00m):\n\u001b[1;32m   1396\u001b[0m   \u001b[38;5;28;01mreturn\u001b[39;00m _ClusterCoordinatorDataHandler(\u001b[38;5;241m*\u001b[39margs, \u001b[38;5;241m*\u001b[39m\u001b[38;5;241m*\u001b[39mkwargs)\n\u001b[0;32m-> 1397\u001b[0m \u001b[38;5;28;01mreturn\u001b[39;00m \u001b[43mDataHandler\u001b[49m\u001b[43m(\u001b[49m\u001b[38;5;241;43m*\u001b[39;49m\u001b[43margs\u001b[49m\u001b[43m,\u001b[49m\u001b[43m \u001b[49m\u001b[38;5;241;43m*\u001b[39;49m\u001b[38;5;241;43m*\u001b[39;49m\u001b[43mkwargs\u001b[49m\u001b[43m)\u001b[49m\n",
      "File \u001b[0;32m~/miniconda3/envs/ml/lib/python3.12/site-packages/tensorflow/python/keras/engine/data_adapter.py:1151\u001b[0m, in \u001b[0;36mDataHandler.__init__\u001b[0;34m(self, x, y, sample_weight, batch_size, steps_per_epoch, initial_epoch, epochs, shuffle, class_weight, max_queue_size, workers, use_multiprocessing, model, steps_per_execution, distribute)\u001b[0m\n\u001b[1;32m   1148\u001b[0m   \u001b[38;5;28mself\u001b[39m\u001b[38;5;241m.\u001b[39m_steps_per_execution \u001b[38;5;241m=\u001b[39m steps_per_execution\n\u001b[1;32m   1149\u001b[0m   \u001b[38;5;28mself\u001b[39m\u001b[38;5;241m.\u001b[39m_steps_per_execution_value \u001b[38;5;241m=\u001b[39m steps_per_execution\u001b[38;5;241m.\u001b[39mnumpy()\u001b[38;5;241m.\u001b[39mitem()\n\u001b[0;32m-> 1151\u001b[0m adapter_cls \u001b[38;5;241m=\u001b[39m \u001b[43mselect_data_adapter\u001b[49m\u001b[43m(\u001b[49m\u001b[43mx\u001b[49m\u001b[43m,\u001b[49m\u001b[43m \u001b[49m\u001b[43my\u001b[49m\u001b[43m)\u001b[49m\n\u001b[1;32m   1152\u001b[0m \u001b[38;5;28mself\u001b[39m\u001b[38;5;241m.\u001b[39m_adapter \u001b[38;5;241m=\u001b[39m adapter_cls(\n\u001b[1;32m   1153\u001b[0m     x,\n\u001b[1;32m   1154\u001b[0m     y,\n\u001b[0;32m   (...)\u001b[0m\n\u001b[1;32m   1163\u001b[0m     distribution_strategy\u001b[38;5;241m=\u001b[39mdistribute_lib\u001b[38;5;241m.\u001b[39mget_strategy(),\n\u001b[1;32m   1164\u001b[0m     model\u001b[38;5;241m=\u001b[39mmodel)\n\u001b[1;32m   1166\u001b[0m strategy \u001b[38;5;241m=\u001b[39m distribute_lib\u001b[38;5;241m.\u001b[39mget_strategy()\n",
      "File \u001b[0;32m~/miniconda3/envs/ml/lib/python3.12/site-packages/tensorflow/python/keras/engine/data_adapter.py:987\u001b[0m, in \u001b[0;36mselect_data_adapter\u001b[0;34m(x, y)\u001b[0m\n\u001b[1;32m    985\u001b[0m \u001b[38;5;28;01mdef\u001b[39;00m \u001b[38;5;21mselect_data_adapter\u001b[39m(x, y):\n\u001b[1;32m    986\u001b[0m \u001b[38;5;250m  \u001b[39m\u001b[38;5;124;03m\"\"\"Selects a data adapter than can handle a given x and y.\"\"\"\u001b[39;00m\n\u001b[0;32m--> 987\u001b[0m   adapter_cls \u001b[38;5;241m=\u001b[39m [\u001b[38;5;28mcls\u001b[39m \u001b[38;5;28;01mfor\u001b[39;00m \u001b[38;5;28mcls\u001b[39m \u001b[38;5;129;01min\u001b[39;00m ALL_ADAPTER_CLS \u001b[38;5;28;01mif\u001b[39;00m \u001b[38;5;28;43mcls\u001b[39;49m\u001b[38;5;241;43m.\u001b[39;49m\u001b[43mcan_handle\u001b[49m\u001b[43m(\u001b[49m\u001b[43mx\u001b[49m\u001b[43m,\u001b[49m\u001b[43m \u001b[49m\u001b[43my\u001b[49m\u001b[43m)\u001b[49m]\n\u001b[1;32m    988\u001b[0m   \u001b[38;5;28;01mif\u001b[39;00m \u001b[38;5;129;01mnot\u001b[39;00m adapter_cls:\n\u001b[1;32m    989\u001b[0m     \u001b[38;5;66;03m# TODO(scottzhu): This should be a less implementation-specific error.\u001b[39;00m\n\u001b[1;32m    990\u001b[0m     \u001b[38;5;28;01mraise\u001b[39;00m \u001b[38;5;167;01mValueError\u001b[39;00m(\n\u001b[1;32m    991\u001b[0m         \u001b[38;5;124m\"\u001b[39m\u001b[38;5;124mFailed to find data adapter that can handle \u001b[39m\u001b[38;5;124m\"\u001b[39m\n\u001b[1;32m    992\u001b[0m         \u001b[38;5;124m\"\u001b[39m\u001b[38;5;124minput: \u001b[39m\u001b[38;5;132;01m{}\u001b[39;00m\u001b[38;5;124m, \u001b[39m\u001b[38;5;132;01m{}\u001b[39;00m\u001b[38;5;124m\"\u001b[39m\u001b[38;5;241m.\u001b[39mformat(\n\u001b[1;32m    993\u001b[0m             _type_name(x), _type_name(y)))\n",
      "File \u001b[0;32m~/miniconda3/envs/ml/lib/python3.12/site-packages/tensorflow/python/keras/engine/data_adapter.py:706\u001b[0m, in \u001b[0;36mDatasetAdapter.can_handle\u001b[0;34m(x, y)\u001b[0m\n\u001b[1;32m    703\u001b[0m \u001b[38;5;129m@staticmethod\u001b[39m\n\u001b[1;32m    704\u001b[0m \u001b[38;5;28;01mdef\u001b[39;00m \u001b[38;5;21mcan_handle\u001b[39m(x, y\u001b[38;5;241m=\u001b[39m\u001b[38;5;28;01mNone\u001b[39;00m):\n\u001b[1;32m    705\u001b[0m   \u001b[38;5;28;01mreturn\u001b[39;00m (\u001b[38;5;28misinstance\u001b[39m(x, (data_types\u001b[38;5;241m.\u001b[39mDatasetV1, data_types\u001b[38;5;241m.\u001b[39mDatasetV2)) \u001b[38;5;129;01mor\u001b[39;00m\n\u001b[0;32m--> 706\u001b[0m           \u001b[43m_is_distributed_dataset\u001b[49m\u001b[43m(\u001b[49m\u001b[43mx\u001b[49m\u001b[43m)\u001b[49m)\n",
      "File \u001b[0;32m~/miniconda3/envs/ml/lib/python3.12/site-packages/tensorflow/python/keras/engine/data_adapter.py:1696\u001b[0m, in \u001b[0;36m_is_distributed_dataset\u001b[0;34m(ds)\u001b[0m\n\u001b[1;32m   1695\u001b[0m \u001b[38;5;28;01mdef\u001b[39;00m \u001b[38;5;21m_is_distributed_dataset\u001b[39m(ds):\n\u001b[0;32m-> 1696\u001b[0m   \u001b[38;5;28;01mreturn\u001b[39;00m \u001b[38;5;28misinstance\u001b[39m(ds, \u001b[43minput_lib\u001b[49m\u001b[38;5;241;43m.\u001b[39;49m\u001b[43mDistributedDatasetInterface\u001b[49m)\n",
      "\u001b[0;31mAttributeError\u001b[0m: module 'tensorflow.python.distribute.input_lib' has no attribute 'DistributedDatasetInterface'"
     ]
    }
   ],
   "source": [
    "hist = modelo.fit(X_train, y_train, validation_split=0.2, batch_size=32)"
   ]
  }
 ],
 "metadata": {
  "kernelspec": {
   "display_name": "am",
   "language": "python",
   "name": "python3"
  },
  "language_info": {
   "codemirror_mode": {
    "name": "ipython",
    "version": 3
   },
   "file_extension": ".py",
   "mimetype": "text/x-python",
   "name": "python",
   "nbconvert_exporter": "python",
   "pygments_lexer": "ipython3",
   "version": "3.12.6"
  }
 },
 "nbformat": 4,
 "nbformat_minor": 2
}
