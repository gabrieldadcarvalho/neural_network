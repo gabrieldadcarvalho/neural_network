{
 "cells": [
  {
   "cell_type": "markdown",
   "metadata": {},
   "source": [
    "---\n",
    "<h1 style=\"text-align: center;\">Modelagem de Redes Neurais para Previsão de Custos em Seguros de Saúde</h1>\n",
    "\n",
    "*Discente:*\n",
    "\n",
    "    *   Gabriel D'assumpção de Carvalho\n",
    "\n",
    "*Data:* 19/08/2024\n",
    "\n",
    "---\n",
    "---"
   ]
  },
  {
   "cell_type": "markdown",
   "metadata": {},
   "source": [
    "# Introdução"
   ]
  },
  {
   "cell_type": "markdown",
   "metadata": {},
   "source": [
    "As doenças cardiovasculares permanecem como a principal causa de mortalidade no Brasil, de acordo com o estudo Global Burden of Disease (GBD) de 2019 e os dados do Sistema Único de Saúde (SUS). O aumento preocupante na incidência de ataques cardíacos entre jovens e adultos é amplamente atribuído à falta de atividade física e a uma dieta inadequada. Esse panorama sublinha a necessidade urgente de promover hábitos de vida mais saudáveis, seguindo a recomendação de Michael Pollan: \"descasque mais, desembale menos\", que incentiva o consumo de alimentos frescos e não processados.\n",
    "\n",
    "A deterioração da saúde pública tem levado a um crescimento significativo no setor de planos de saúde. De acordo com a Agência Nacional de Saúde Suplementar (ANS), o Brasil registrou um aumento de aproximadamente 20,5 milhões de novos beneficiários de planos de assistência médica entre março de 2000 e junho de 2024.\n",
    "\n",
    "<p align=\"center\">\n",
    "  <span style=\"font-size: smaller;\">Gráfico 01</span>\n",
    "</p>\n",
    "<p align=\"center\">\n",
    "  <img src=\"beneficiario_ans.png\" alt=\"Gráfico mostrando o crescimento dos beneficiários de planos de saúde no Brasil\">\n",
    "</p>\n",
    "\n",
    "O gráfico acima ilustra o aumento no número de beneficiários ao longo de 24 anos, refletindo a crescente demanda por cuidados médicos. Esse crescimento torna essencial a análise e previsão das despesas associadas aos seguros de saúde, que é o objetivo principal deste projeto.\n",
    "\n",
    "Para a realização desta análise, será utilizada uma base de dados disponível no [Kaggle](https://www.kaggle.com/datasets/willianoliveiragibin/healthcare-insurance/data). Esta base contém 303 observações e 6 características, com o custo do seguro médico sendo a variável alvo. A seguir, apresentamos as variáveis da base de dados:\n",
    "\n",
    "| Atributo   | Descrição                                                      | Tipo                    |\n",
    "|------------|----------------------------------------------------------------|-------------------------|\n",
    "| Idade      | A idade da pessoa segurada.                                    | Inteiro                 |\n",
    "| Sexo       | Gênero (masculino ou feminino) do segurado.                     | Categórico - Binário    |\n",
    "| IMC        | Índice de Massa Corporal: uma medida de gordura corporal baseada na altura e no peso. | Contínuo                |\n",
    "| Crianças   | O número de dependentes cobertos.                               | Inteiro                 |\n",
    "| Fumante    | Se o segurado é fumante (sim ou não).                           | Categórico - Binário    |\n",
    "| Região     | A área geográfica de cobertura.                                | Categórico - Nominal    |\n",
    "| Encargos   | Os custos do seguro médico incorridos pelo segurado.            | Contínuo                |\n"
   ]
  },
  {
   "cell_type": "code",
   "execution_count": 1,
   "metadata": {},
   "outputs": [
    {
     "ename": "NameError",
     "evalue": "name 'pd' is not defined",
     "output_type": "error",
     "traceback": [
      "\u001b[0;31m---------------------------------------------------------------------------\u001b[0m",
      "\u001b[0;31mNameError\u001b[0m                                 Traceback (most recent call last)",
      "Cell \u001b[0;32mIn[1], line 1\u001b[0m\n\u001b[0;32m----> 1\u001b[0m ans \u001b[38;5;241m=\u001b[39m \u001b[43mpd\u001b[49m\u001b[38;5;241m.\u001b[39mread_csv(\u001b[38;5;124m\"\u001b[39m\u001b[38;5;124mbeneficiarios_ans.csv\u001b[39m\u001b[38;5;124m\"\u001b[39m, sep\u001b[38;5;241m=\u001b[39m\u001b[38;5;124m'\u001b[39m\u001b[38;5;124m,\u001b[39m\u001b[38;5;124m'\u001b[39m)\n\u001b[1;32m      2\u001b[0m ans[\u001b[38;5;124m'\u001b[39m\u001b[38;5;124mdata\u001b[39m\u001b[38;5;124m'\u001b[39m] \u001b[38;5;241m=\u001b[39m pd\u001b[38;5;241m.\u001b[39mto_datetime(ans[\u001b[38;5;124m'\u001b[39m\u001b[38;5;124mdata\u001b[39m\u001b[38;5;124m'\u001b[39m], \u001b[38;5;28mformat\u001b[39m\u001b[38;5;241m=\u001b[39m\u001b[38;5;124m'\u001b[39m\u001b[38;5;124m%\u001b[39m\u001b[38;5;124mY-\u001b[39m\u001b[38;5;124m%\u001b[39m\u001b[38;5;124mm\u001b[39m\u001b[38;5;124m'\u001b[39m)\n\u001b[1;32m      4\u001b[0m \u001b[38;5;66;03m# Plotar o gráfico de linhas\u001b[39;00m\n",
      "\u001b[0;31mNameError\u001b[0m: name 'pd' is not defined"
     ]
    }
   ],
   "source": [
    "ans = pd.read_csv(\"beneficiarios_ans.csv\", sep=',')\n",
    "ans['data'] = pd.to_datetime(ans['data'], format='%Y-%m')\n",
    "\n",
    "# Plotar o gráfico de linhas\n",
    "plt.figure(figsize=(12, 6))\n",
    "plt.plot(ans['data'], ans['Assistência Médica'], marker='o')\n",
    "plt.title('Número de Beneficiários de Planos de Assistência Médica no Brasil (em milhões)')\n",
    "plt.xlabel('Data')\n",
    "plt.ylabel('Assistência Médica')\n",
    "plt.grid(True)\n",
    "plt.xticks(rotation=90)\n",
    "plt.tight_layout()\n",
    "plt.figtext(0.90, 0.01, 'Fonte: ANS', horizontalalignment='center', verticalalignment='bottom', fontsize=8, color='black')\n",
    "\n",
    "plt.savefig('beneficiario_ans.png')\n",
    "\n",
    "plt.show()"
   ]
  },
  {
   "cell_type": "markdown",
   "metadata": {},
   "source": [
    "\n",
    "\n",
    "Este crescimento reflete a crescente demanda por cuidados médicos, tornando crucial a análise e previsão das despesas associadas aos seguros de saúde, que é o foco deste projeto de aprendizado de máquina."
   ]
  },
  {
   "cell_type": "markdown",
   "metadata": {},
   "source": [
    "## Bibliotecas Utilizadas"
   ]
  },
  {
   "cell_type": "code",
   "execution_count": 1,
   "metadata": {},
   "outputs": [
    {
     "name": "stderr",
     "output_type": "stream",
     "text": [
      "2024-08-21 16:59:54.908238: I tensorflow/core/platform/cpu_feature_guard.cc:193] This TensorFlow binary is optimized with oneAPI Deep Neural Network Library (oneDNN) to use the following CPU instructions in performance-critical operations:  SSE4.1 SSE4.2 AVX AVX2 FMA\n",
      "To enable them in other operations, rebuild TensorFlow with the appropriate compiler flags.\n"
     ]
    }
   ],
   "source": [
    "# Configurando o modo de exibição do pandas\n",
    "import pandas as pd\n",
    "pd.options.display.float_format = \"{:.4f}\".format\n",
    "\n",
    "import numpy as np\n",
    "from matplotlib import pyplot as plt\n",
    "import tensorflow as tf\n",
    "from tensorflow import keras\n",
    "from sklearn.model_selection import train_test_split\n",
    "from sklearn.preprocessing import StandardScaler\n",
    "\n",
    "# Desativa todos os avisos\n",
    "import warnings\n",
    "warnings.filterwarnings(\"ignore\")"
   ]
  },
  {
   "cell_type": "markdown",
   "metadata": {},
   "source": [
    "# Coleta dos Dados"
   ]
  },
  {
   "cell_type": "code",
   "execution_count": 2,
   "metadata": {},
   "outputs": [],
   "source": [
    "df = pd.read_csv(\"https://raw.githubusercontent.com/gabrieldadcarvalho/neural_network/main/projeto/heart.csv\")\n",
    "\n",
    "X = df.iloc[:, :-1]\n",
    "y = df.iloc[:, -1]"
   ]
  },
  {
   "cell_type": "code",
   "execution_count": 3,
   "metadata": {},
   "outputs": [
    {
     "data": {
      "text/plain": [
       "303"
      ]
     },
     "execution_count": 3,
     "metadata": {},
     "output_type": "execute_result"
    }
   ],
   "source": [
    "len(X)"
   ]
  },
  {
   "cell_type": "markdown",
   "metadata": {},
   "source": [
    "# Exploração dos Dados"
   ]
  },
  {
   "cell_type": "markdown",
   "metadata": {},
   "source": [
    "A exploração dos dados visa identificar padrões, tendências e anomalias que podem impactar a análise. Outliers são identificados e avaliados quanto à sua significância, enquanto correlações entre variáveis são analisadas para identificar relações importantes. A análise de variáveis categóricas inclui a avaliação das frequências e modas, e visualizações adicionais, como heatmaps e pair plots, são utilizadas para suportar a análise e identificar padrões mais complexos."
   ]
  },
  {
   "cell_type": "code",
   "execution_count": 12,
   "metadata": {},
   "outputs": [
    {
     "name": "stdout",
     "output_type": "stream",
     "text": [
      "   age  sex  cp  trtbps  chol  fbs  restecg  thalachh  exng  oldpeak  slp  \\\n",
      "0   63    1   3     145   233    1        0       150     0   2.3000    0   \n",
      "1   37    1   2     130   250    0        1       187     0   3.5000    0   \n",
      "2   41    0   1     130   204    0        0       172     0   1.4000    2   \n",
      "3   56    1   1     120   236    0        1       178     0   0.8000    2   \n",
      "4   57    0   0     120   354    0        1       163     1   0.6000    2   \n",
      "\n",
      "   caa  thall  \n",
      "0    0      1  \n",
      "1    0      2  \n",
      "2    0      2  \n",
      "3    0      2  \n",
      "4    0      2  \n"
     ]
    }
   ],
   "source": [
    "# Verificando as 5 primeiras linhas de x\n",
    "print(X.head())"
   ]
  },
  {
   "cell_type": "code",
   "execution_count": 13,
   "metadata": {},
   "outputs": [
    {
     "name": "stdout",
     "output_type": "stream",
     "text": [
      "0    1\n",
      "1    1\n",
      "2    1\n",
      "3    1\n",
      "4    1\n",
      "Name: output, dtype: int64\n"
     ]
    }
   ],
   "source": [
    "# Verificando as 5 primeiras linhas de x\n",
    "print(y.head())"
   ]
  },
  {
   "cell_type": "markdown",
   "metadata": {},
   "source": [
    "## Variáveis Explicativas\n",
    "Vamos realizar uma análise exploratória das variáveis explicativas do conjunto de dados. Abaixo estão as estatísticas descritivas e visualizações para cada variável."
   ]
  },
  {
   "cell_type": "markdown",
   "metadata": {},
   "source": [
    "### Idade"
   ]
  },
  {
   "cell_type": "code",
   "execution_count": 15,
   "metadata": {},
   "outputs": [
    {
     "data": {
      "text/plain": [
       "count   303.0000\n",
       "mean     54.3663\n",
       "std       9.0821\n",
       "min      29.0000\n",
       "25%      47.5000\n",
       "50%      55.0000\n",
       "75%      61.0000\n",
       "max      77.0000\n",
       "Name: age, dtype: float64"
      ]
     },
     "execution_count": 15,
     "metadata": {},
     "output_type": "execute_result"
    }
   ],
   "source": [
    "X['age'].describe()"
   ]
  },
  {
   "cell_type": "code",
   "execution_count": 16,
   "metadata": {},
   "outputs": [
    {
     "data": {
      "text/plain": [
       "0    58\n",
       "Name: age, dtype: int64"
      ]
     },
     "execution_count": 16,
     "metadata": {},
     "output_type": "execute_result"
    }
   ],
   "source": [
    "X['age'].mode()"
   ]
  },
  {
   "cell_type": "markdown",
   "metadata": {},
   "source": [
    "Ao visualizar as estatisticas da variável idade, podemos perceber que"
   ]
  }
 ],
 "metadata": {
  "kernelspec": {
   "display_name": "am",
   "language": "python",
   "name": "python3"
  },
  "language_info": {
   "codemirror_mode": {
    "name": "ipython",
    "version": 3
   },
   "file_extension": ".py",
   "mimetype": "text/x-python",
   "name": "python",
   "nbconvert_exporter": "python",
   "pygments_lexer": "ipython3",
   "version": "3.9.18"
  }
 },
 "nbformat": 4,
 "nbformat_minor": 2
}
